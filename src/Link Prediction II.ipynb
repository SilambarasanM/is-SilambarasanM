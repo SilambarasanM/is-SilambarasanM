{
 "cells": [
  {
   "cell_type": "code",
   "execution_count": 1,
   "metadata": {
    "collapsed": true
   },
   "outputs": [],
   "source": [
    "from datetime import datetime\n",
    "import random\n",
    "import numpy as np\n",
    "import matplotlib.pyplot as plt\n",
    "%matplotlib inline\n",
    "from itertools import combinations\n",
    "from collections import defaultdict"
   ]
  },
  {
   "cell_type": "code",
   "execution_count": 2,
   "metadata": {
    "collapsed": true
   },
   "outputs": [],
   "source": [
    "import pickle, os\n",
    "def store(variable, name):\n",
    "    try:\n",
    "        out_file = open('data/'+name+'.pkl', 'wb')\n",
    "        pickle.dump(variable, out_file)\n",
    "        out_file.close()\n",
    "        return True\n",
    "    except:\n",
    "        return False\n",
    "\n",
    "def load(name):\n",
    "    file_name = 'data/'+name+'.pkl'\n",
    "    if os.path.exists(file_name):\n",
    "        in_file = open(file_name, 'rb')\n",
    "        variable = pickle.load(in_file)\n",
    "        in_file.close()\n",
    "        return variable\n",
    "    else:\n",
    "        return None"
   ]
  },
  {
   "cell_type": "code",
   "execution_count": 3,
   "metadata": {
    "collapsed": false
   },
   "outputs": [],
   "source": [
    "def load_data(in_file, brands_to_load = None, max_limit = 1404, verbose = False, randomize = True):\n",
    "    \"\"\"Loads data from the given data file.\n",
    "    If the brands to be loaded is less than the maximum rows in the datafile, randomize the loading.\n",
    "    Args:\n",
    "      brands_to_load .... Number of brands to be loaded.\n",
    "      in_file       .... A string representing the location and datafile name to be loaded.\n",
    "    Returns:\n",
    "      None. The data is loaded into the global variables.\"\"\"\n",
    "    \n",
    "    if brands_to_load is None:\n",
    "        brands_to_load = max_limit \n",
    "    \n",
    "    #Randomize Loading\n",
    "    if brands_to_load != max_limit:\n",
    "        if randomize:\n",
    "            choices = sorted(random.sample(range(max_limit), brands_to_load))\n",
    "            max_row_id = max(choices)\n",
    "        else:\n",
    "            choices = range(brands_to_load)\n",
    "            max_row_id = max(choices)\n",
    "    else:\n",
    "        choices = range(max_limit)\n",
    "        max_row_id = max_limit-1\n",
    "    \n",
    "    brand_no = 0\n",
    "    cur_idx = 0\n",
    "            \n",
    "    with open(in_file) as data_file:\n",
    "        for row in data_file:\n",
    "            if brand_no > max_row_id:\n",
    "                break\n",
    "            if brand_no != choices[cur_idx]:\n",
    "                brand_no += 1\n",
    "                continue\n",
    "            else:\n",
    "                followers = row.split()\n",
    "                brand = followers.pop(0)\n",
    "                followers_count = len(followers)\n",
    "                \n",
    "                #Ignoring brands with less than 1000 followers\n",
    "                if followers_count > 1000:  \n",
    "                    followers = [int(x) for x in followers]\n",
    "                    BRAND_FOLLOWERS[brand] = set(followers)\n",
    "                    BRANDS_LIST.append(brand)\n",
    "                    \n",
    "                    for f in followers:\n",
    "                        if f not in UNIQUE_FOLLOWERS:\n",
    "                            UNIQUE_FOLLOWERS[f] = set()\n",
    "                        UNIQUE_FOLLOWERS[f].add(brand)\n",
    "                    print('Loaded',brand,'-',followers_count,'followers')\n",
    "                else:\n",
    "                    print('Skipped',brand,'-',followers_count,'followers')\n",
    "                    \n",
    "                brand_no += 1\n",
    "                cur_idx += 1\n",
    "                    \n",
    "    return"
   ]
  },
  {
   "cell_type": "code",
   "execution_count": 3,
   "metadata": {
    "collapsed": false
   },
   "outputs": [
    {
     "name": "stdout",
     "output_type": "stream",
     "text": [
      "Loaded 34degrees - 2697 followers\n",
      "Loaded 5hourenergy - 18694 followers\n",
      "Loaded 8oclockcoffee - 24860 followers\n",
      "Loaded 8thcontinentsoy - 1950 followers\n",
      "Loaded acer - 47016 followers\n",
      "Loaded afterglow - 2341 followers\n",
      "Loaded airheads - 17691 followers\n",
      "Loaded alaffiaskincare - 2868 followers\n",
      "Loaded allegrocoffee - 3417 followers\n",
      "Loaded annieshomegrown - 107459 followers\n",
      "Loaded antimonkeybutt - 1106 followers\n",
      "Loaded astonmartin - 500000 followers\n",
      "Loaded asus - 457206 followers\n",
      "Loaded att - 504997 followers\n",
      "Loaded aubreyorganicsi - 1632 followers\n",
      "Loaded audi - 500000 followers\n",
      "Loaded auracacia - 4769 followers\n",
      "Loaded aveda - 105147 followers\n",
      "Loaded avoninsider - 116393 followers\n",
      "Loaded babyblanketgift - 1438 followers\n",
      "Loaded babyganics - 22277 followers\n",
      "Loaded bahlsenbiscuits - 7095 followers\n",
      "Loaded barbarasbakery - 8362 followers\n",
      "Loaded bareminerals - 198459 followers\n",
      "Loaded barielle - 4489 followers\n",
      "Loaded barilla - 24429 followers\n",
      "Loaded barkeeperfriend - 13845 followers\n",
      "Loaded basic4veg - 2499 followers\n",
      "Loaded bayerus - 35736 followers\n",
      "Loaded bblondehair - 8410 followers\n",
      "Loaded belkin - 22825 followers\n",
      "Loaded benefitbeauty - 504997 followers\n",
      "Loaded bertolli - 23689 followers\n",
      "Loaded better_oats - 4646 followers\n",
      "Loaded bhcosmetics - 122565 followers\n",
      "Loaded biooiluk - 3442 followers\n",
      "Loaded bissellclean - 17344 followers\n",
      "Loaded blackberry - 504997 followers\n",
      "Loaded blinc - 8269 followers\n",
      "Loaded blissspa - 30548 followers\n",
      "Loaded bluebeardsusa - 2089 followers\n",
      "Loaded bmsnews - 98230 followers\n",
      "Loaded bobsredmill - 84272 followers\n",
      "Loaded bolthousefarms - 17045 followers\n",
      "Loaded boogiemom - 14122 followers\n",
      "Loaded bosciaskincare - 9692 followers\n",
      "Loaded braunus - 39781 followers\n",
      "Loaded bravesldier - 3996 followers\n",
      "Loaded brazilianblwout - 6852 followers\n",
      "Loaded bronnerbros - 18591 followers\n",
      "Loaded bugatti - 334780 followers\n",
      "Loaded buick - 211499 followers\n",
      "Loaded bulbrite - 9811 followers\n",
      "Loaded bulldogskincare - 7650 followers\n",
      "Loaded bumble - 42862 followers\n",
      "Loaded burberry - 500000 followers\n",
      "Loaded butterfinger - 86973 followers\n",
      "Loaded cabotcheese - 23820 followers\n",
      "Loaded campbellschunky - 11488 followers\n",
      "Loaded canonusa - 115936 followers\n",
      "Loaded carabnaturally - 2887 followers\n",
      "Loaded carolsdaughter - 49559 followers\n",
      "Loaded casbahhamilton - 8401 followers\n",
      "Loaded casio_usa - 3351 followers\n",
      "Loaded caudalieus - 6395 followers\n",
      "Loaded celazome - 2461 followers\n",
      "Loaded celestialtea - 18092 followers\n",
      "Loaded chanel - 504998 followers\n",
      "Loaded cheerios - 74593 followers\n",
      "Loaded digiornopizza - 102705 followers\n",
      "Loaded dior - 500000 followers\n",
      "Loaded domtarcorp - 2079 followers\n",
      "Loaded doritos - 500000 followers\n",
      "Loaded drbronner - 37695 followers\n",
      "Loaded dreamdrystyle - 4500 followers\n",
      "Loaded dreft - 24256 followers\n",
      "Loaded drhauschka_usa - 5030 followers\n",
      "Loaded drinktampico - 7529 followers\n",
      "Loaded droetkerbaking - 7164 followers\n",
      "Loaded drpepper - 414773 followers\n",
      "Loaded drpraegers - 3750 followers\n",
      "Loaded duracell - 81051 followers\n",
      "Loaded duwopcosmetics - 1828 followers\n",
      "Loaded eaglepack - 2816 followers\n",
      "Loaded earthlite - 2520 followers\n",
      "Loaded eckounltd - 20585 followers\n",
      "Loaded eckrichmeats - 25612 followers\n",
      "Loaded edgeshavegel - 23235 followers\n",
      "Loaded eggplantpeople - 19914 followers\n",
      "Loaded electrolux - 55941 followers\n",
      "Loaded elemis - 37574 followers\n",
      "Loaded elfcosmetics - 306331 followers\n",
      "Loaded ellentracynyc - 1104 followers\n",
      "Loaded empirekosher - 1509 followers\n",
      "Loaded essentiaphwater - 18252 followers\n",
      "Loaded estroven - 3003 followers\n",
      "Loaded evianwater - 35871 followers\n",
      "Loaded evolvekefir - 1083 followers\n",
      "Loaded faithinnature - 6066 followers\n",
      "Loaded faygo - 22369 followers\n",
      "Loaded febreze_fresh - 63848 followers\n",
      "Loaded ferrariusa - 208894 followers\n",
      "Loaded ferrocosmetics - 1565 followers\n",
      "Loaded fiberone - 22873 followers\n",
      "Loaded finlandiavodka - 8231 followers\n",
      "Loaded firstaidbeauty - 9570 followers\n",
      "Loaded fisherpaykelus - 5711 followers\n",
      "Loaded flatearthbrew - 7540 followers\n",
      "Loaded food_for_life - 5302 followers\n",
      "Loaded ford - 504996 followers\n",
      "Loaded fosterfarms - 2554 followers\n",
      "Loaded foxandjane - 1237 followers\n",
      "Loaded freemanbeauty - 2908 followers\n",
      "Loaded frenchmeadow - 2504 followers\n",
      "Loaded freschetta - 18996 followers\n",
      "Loaded frigidaire - 11217 followers\n",
      "Loaded friskies - 22669 followers\n",
      "Loaded fritolay - 288252 followers\n",
      "Loaded fstg_chips - 10872 followers\n",
      "Loaded fttv - 6084 followers\n",
      "Loaded gardentime1 - 1608 followers\n",
      "Loaded garmin - 125475 followers\n",
      "Loaded gdiapers - 8491 followers\n",
      "Loaded getolympus - 30682 followers\n",
      "Loaded ghostfragrances - 11433 followers\n",
      "Loaded glominerals - 8812 followers\n",
      "Loaded gmtgiftbaskets - 13751 followers\n",
      "Loaded godiva - 47135 followers\n",
      "Loaded goodcleanlove - 3406 followers\n",
      "Loaded goodearthtea - 5830 followers\n",
      "Loaded gopicnic - 4910 followers\n",
      "Loaded gortonsseafood - 7824 followers\n",
      "Loaded greenworks - 4257 followers\n",
      "Loaded guayaki - 9995 followers\n",
      "Loaded hairformula37 - 1111 followers\n",
      "Loaded hannaford - 8540 followers\n",
      "Loaded hansensnatural - 2727 followers\n",
      "Loaded harmankardon - 15198 followers\n",
      "Loaded harneytea - 12887 followers\n",
      "Loaded healthy_choice - 14024 followers\n",
      "Loaded hellmanns - 31632 followers\n",
      "Loaded hennahut - 14653 followers\n",
      "Loaded herbacinusa - 1834 followers\n",
      "Loaded herbalessences - 50540 followers\n",
      "Loaded herban_cowboy - 1976 followers\n",
      "Loaded hersheys - 174132 followers\n",
      "Loaded hickoryfarms - 11520 followers\n",
      "Loaded hillshirefarm - 9661 followers\n",
      "Loaded hollisterco - 504997 followers\n",
      "Loaded homefreetreats - 1851 followers\n",
      "Loaded homeruninn - 5158 followers\n",
      "Loaded honesttea - 56687 followers\n",
      "Loaded honeystinger - 20964 followers\n",
      "Loaded horizon_organic - 27065 followers\n",
      "Loaded hormelfoods - 53090 followers\n",
      "Loaded hostess_snacks - 91836 followers\n",
      "Loaded hourglassmakeup - 124986 followers\n",
      "Loaded hp - 500000 followers\n",
      "Loaded hubertslemonade - 6810 followers\n",
      "Loaded huggies - 82458 followers\n",
      "Loaded huntschef - 4474 followers\n",
      "Loaded hydropeptide - 2375 followers\n",
      "Loaded hydroxatone - 3535 followers\n",
      "Loaded hylandshealth - 4122 followers\n",
      "Loaded iqnatural - 1250 followers\n",
      "Loaded islandseasoning - 6523 followers\n",
      "Loaded itcosmetics - 59180 followers\n",
      "Loaded jacklinks - 19736 followers\n",
      "Loaded jarritosnation - 6863 followers\n",
      "Loaded jello - 12638 followers\n",
      "Loaded johnsonville - 27932 followers\n",
      "Loaded joico - 24764 followers\n",
      "Loaded josie_maran - 45727 followers\n",
      "Loaded jouercosmetics - 14568 followers\n",
      "Loaded juicycouture - 154189 followers\n",
      "Loaded junebeebaby - 1116 followers\n",
      "Loaded jvc_usa - 14687 followers\n",
      "Loaded kaplanmd - 3115 followers\n",
      "Loaded kelloggcompany - 37731 followers\n",
      "Loaded kenra_haircare - 7196 followers\n",
      "Loaded kerastaseusa - 13940 followers\n",
      "Loaded kiehls - 81643 followers\n",
      "Loaded kindsnacks - 68848 followers\n",
      "Loaded deborahlippmann - 38160 followers\n",
      "Loaded ibm - 329003 followers\n",
      "Loaded powerade - 151333 followers\n",
      "Loaded pr_organicsusa - 4889 followers\n",
      "Loaded premierdeadsea_ - 4606 followers\n",
      "Loaded pretzelcrisps - 32321 followers\n",
      "Loaded pringles - 377352 followers\n",
      "Loaded propel_water - 4316 followers\n",
      "Loaded prttypeaushun - 2061 followers\n",
      "Loaded puffs - 26820 followers\n",
      "Loaded purell - 23003 followers\n",
      "Loaded puresilkshave - 6320 followers\n",
      "Loaded purex - 104380 followers\n",
      "Loaded purinaonedog - 23445 followers\n",
      "Loaded quaker - 186042 followers\n",
      "Loaded quiltednorthern - 7592 followers\n",
      "Loaded quornus - 3013 followers\n",
      "Elapsed: 0:01:12.285371\n",
      "No. of Unique Followers 8824639\n",
      "No. of Brands 200\n"
     ]
    }
   ],
   "source": [
    "BRANDS_LIST = []\n",
    "UNIQUE_FOLLOWERS = {}\n",
    "BRAND_FOLLOWERS = {}\n",
    "verbose = True\n",
    "#randomize = False\n",
    "randomize = True\n",
    "start = datetime.now()\n",
    "#brands_to_load = 50\n",
    "#max_rows = 1404\n",
    "#load_data('data/brand_followers_final.tsv', brands_to_load, max_rows, verbose, randomize)\n",
    "brands_to_load = 200\n",
    "max_rows = 469\n",
    "load_data('data/brand_followers_corrected_full.tsv', brands_to_load, max_rows, verbose, randomize)\n",
    "print('Elapsed:',datetime.now()-start)\n",
    "N_BRANDS = len(BRAND_FOLLOWERS)\n",
    "N_FOLLOWERS = len(UNIQUE_FOLLOWERS)\n",
    "print('No. of Unique Followers', N_FOLLOWERS)\n",
    "print('No. of Brands', N_BRANDS)"
   ]
  },
  {
   "cell_type": "code",
   "execution_count": 4,
   "metadata": {
    "collapsed": false
   },
   "outputs": [],
   "source": [
    "BRAND_SECTOR = {}\n",
    "row_no = 0\n",
    "with open('data/sectors.txt') as data_file:\n",
    "        for row in data_file:\n",
    "            if row_no == 0:\n",
    "                row_no += 1\n",
    "                continue\n",
    "            data = row.strip().split(',')\n",
    "            sector = data[0].lower().replace(' ','_')\n",
    "            brand = data[1].lower()\n",
    "            if sector in BRAND_SECTOR:\n",
    "                BRAND_SECTOR[sector].add(brand)\n",
    "            else:\n",
    "                BRAND_SECTOR[sector] =set([brand])\n",
    "SECTORS = sorted(list(BRAND_SECTOR.keys()))"
   ]
  },
  {
   "cell_type": "code",
   "execution_count": null,
   "metadata": {
    "collapsed": false
   },
   "outputs": [],
   "source": [
    "UNIQUE_FOLLOWERS = load('UNIQUE_FOLLOWERS')\n",
    "BRAND_FOLLOWERS = load('BRAND_FOLLOWERS')\n",
    "BRANDS_LIST = load('BRANDS_LIST')"
   ]
  },
  {
   "cell_type": "code",
   "execution_count": null,
   "metadata": {
    "collapsed": true
   },
   "outputs": [],
   "source": [
    "def get_all_sectors():\n",
    "    return set(BRAND_SECTOR.keys())\n",
    "\n",
    "def get_brands_in_sector(sector):\n",
    "    return BRAND_SECTOR[sector]\n",
    "\n",
    "def get_sector(brand):\n",
    "    for s in BRAND_SECTOR:\n",
    "        if brand in BRAND_SECTOR[s]:\n",
    "            return s\n",
    "    print('No sector found for',brand)\n",
    "    return None\n",
    "\n",
    "def get_followers(brand):\n",
    "    return BRAND_FOLLOWERS[brand]\n",
    "\n",
    "def set_followers(brand, followers):\n",
    "    BRAND_FOLLOWERS[brand] = followers\n",
    "    \n",
    "def set_brands(user, brands):\n",
    "    UNIQUE_FOLLOWERS[user] = brands\n",
    "\n",
    "def get_brands(user):\n",
    "    return UNIQUE_FOLLOWERS[user]\n",
    "\n",
    "def get_brand_id(brand):\n",
    "    return BRANDS_LIST.index(brand)"
   ]
  },
  {
   "cell_type": "code",
   "execution_count": null,
   "metadata": {
    "collapsed": false
   },
   "outputs": [],
   "source": [
    "def plot_histogram(data,title):\n",
    "    hist, bins = np.histogram(np.asarray(data),bins=50)    \n",
    "    width = 0.9 * (bins[1] - bins[0])\n",
    "    center = (bins[:-1] + bins[1:]) / 2\n",
    "    plt.yscale(\"log\")\n",
    "    plt.bar(center, hist, align='center', width=width)\n",
    "    plt.title(title)\n",
    "\n",
    "plot_histogram([len(v) for v in list(UNIQUE_FOLLOWERS.values())], 'Followers Count Vs Brands Followed')"
   ]
  },
  {
   "cell_type": "code",
   "execution_count": null,
   "metadata": {
    "collapsed": false
   },
   "outputs": [],
   "source": [
    "def sample_followers(brands_min, sample_pct, split_ratio):\n",
    "    ffollowers = list(map(lambda x: x[0], filter(lambda x: len(x[1]) >= brands_min, UNIQUE_FOLLOWERS.items())))\n",
    "    sample = random.sample(ffollowers, int(len(ffollowers) * sample_pct))\n",
    "    print('Sample taken: %d/%d followers.' % (len(sample),len(list(ffollowers))))\n",
    "    train_sample_size = int(split_ratio * len(sample))\n",
    "    train_sample = sample[:train_sample_size]\n",
    "    test_sample = sample[train_sample_size:]\n",
    "    print('Training samples:',train_sample_size)\n",
    "    print('Testing samples:',len(sample)-train_sample_size)\n",
    "    return train_sample, test_sample #return sample\n",
    "\n",
    "train_samples, test_samples = sample_followers(brands_min=5, sample_pct= 0.01, split_ratio=0.75)\n",
    "#follower_ids = sample_followers(brands_min=5, sample_pct= 0.01, split_ratio=0.75)\n"
   ]
  },
  {
   "cell_type": "code",
   "execution_count": null,
   "metadata": {
    "collapsed": false
   },
   "outputs": [],
   "source": [
    "store(BRANDS_LIST, 'BRANDS_LIST')\n",
    "store(BRAND_FOLLOWERS, 'BRAND_FOLLOWERS')\n",
    "store(UNIQUE_FOLLOWERS, 'UNIQUE_FOLLOWERS')"
   ]
  },
  {
   "cell_type": "code",
   "execution_count": null,
   "metadata": {
    "collapsed": true
   },
   "outputs": [],
   "source": [
    "N_BRANDS = len(BRAND_FOLLOWERS)\n",
    "N_FOLLOWERS = len(UNIQUE_FOLLOWERS)"
   ]
  },
  {
   "cell_type": "code",
   "execution_count": null,
   "metadata": {
    "collapsed": false
   },
   "outputs": [],
   "source": [
    "def get_negative_samples(follower_ids):\n",
    "    brands = {}\n",
    "    for follower_id in follower_ids:\n",
    "        brands_not_followed = set(BRANDS_LIST) - get_brands(follower_id)\n",
    "        brands[follower_id] = random.choice(list(brands_not_followed))\n",
    "    return brands\n",
    "\n",
    "brands_for_training = get_negative_samples(train_samples)"
   ]
  },
  {
   "cell_type": "code",
   "execution_count": null,
   "metadata": {
    "collapsed": false
   },
   "outputs": [],
   "source": [
    "def remove_links(followers):\n",
    "    brands_to_remove = {}\n",
    "    for follower_id in followers:\n",
    "        brand = random.choice(list(get_brands(follower_id)))\n",
    "        brands_to_remove[follower_id] = brand\n",
    "        set_brands(follower_id,get_brands(follower_id) - set([brand]))\n",
    "        set_followers(brand, get_followers(brand) - set([follower_id]))\n",
    "        print('Removed link', follower_id,'-',brand)\n",
    "    return brands_to_remove\n",
    "removed_brands = remove_links(train_samples)"
   ]
  },
  {
   "cell_type": "code",
   "execution_count": null,
   "metadata": {
    "collapsed": false
   },
   "outputs": [],
   "source": [
    "def get_similarity_matrix():\n",
    "    DIST_MAT = np.zeros((N_BRANDS,N_BRANDS))\n",
    "    \n",
    "    for tuple_pair in combinations(enumerate(BRANDS_LIST),2):\n",
    "        b1 = get_followers(tuple_pair[0][1])\n",
    "        b2 = get_followers(tuple_pair[1][1])\n",
    "        \n",
    "        #Jaccard Similarity Measure\n",
    "        common_connections = len(b1.intersection(b2))\n",
    "        total_connections = len(b1) + len(b2) - common_connections #More efficient than set(b1).union(b2)\n",
    "        sim = common_connections/total_connections\n",
    "        \n",
    "        #Symmetrix Distance Matrix\n",
    "        DIST_MAT[tuple_pair[0][0] , tuple_pair[1][0]] = DIST_MAT[tuple_pair[1][0] , tuple_pair[0][0]] = sim\n",
    "    return DIST_MAT\n",
    "\n",
    "DIST_MAT = get_similarity_matrix()\n",
    "print('%d x %d Similarity Matrix created.'%(N_BRANDS,N_BRANDS))"
   ]
  },
  {
   "cell_type": "code",
   "execution_count": null,
   "metadata": {
    "collapsed": true
   },
   "outputs": [],
   "source": [
    "def get_statistics(values):\n",
    "    import statistics\n",
    "    mean = statistics.mean(values)\n",
    "    median = statistics.median(values)\n",
    "    maximum = max(values)\n",
    "    minimum = min(values)\n",
    "    return [mean, median, maximum, minimum]"
   ]
  },
  {
   "cell_type": "code",
   "execution_count": 15,
   "metadata": {
    "collapsed": false
   },
   "outputs": [],
   "source": [
    "def get_rank(sorted_scores, p_brand, n_brand):\n",
    "\n",
    "    done = 0\n",
    "    p_rank = None\n",
    "    n_rank = None\n",
    "    for idx, brand_score in enumerate(sorted_scores):\n",
    "        if brand_score[0] == p_brand:\n",
    "            p_rank = idx + 1\n",
    "            done += 1\n",
    "        elif brand_score[0] == n_brand:\n",
    "            n_rank = idx + 1\n",
    "            done += 1\n",
    "        if done == 2:\n",
    "            break;\n",
    "    if done < 2:\n",
    "        print(p_brand,p_rank, n_brand, n_rank)\n",
    "    return p_rank, n_rank"
   ]
  },
  {
   "cell_type": "code",
   "execution_count": null,
   "metadata": {
    "collapsed": false
   },
   "outputs": [],
   "source": [
    "def get_prediction(follower_ids, p_brands, n_brands):\n",
    "    p_rank = {}\n",
    "    n_rank = {}\n",
    "    \n",
    "    for follower_id in follower_ids:\n",
    "        brands_followed = get_brands(follower_id)\n",
    "        brands_not_followed = set(BRANDS_LIST) - brands_followed\n",
    "            \n",
    "        scores = {}\n",
    "        for brand_not_followed in brands_not_followed:\n",
    "            bnf_idx = get_brand_id(brand_not_followed)\n",
    "            scores[brand_not_followed] = 0\n",
    "            \n",
    "            for brand_followed in brands_followed:\n",
    "                bf_idx = get_brand_id(brand_followed)\n",
    "                scores[brand_not_followed] += DIST_MAT[bf_idx, bnf_idx]\n",
    "    \n",
    "        prediction = sorted(scores.items(), key=lambda x: x[1]/len(brands_followed), reverse=True)\n",
    "        p_rank[follower_id], n_rank[follower_id] = get_rank(prediction, p_brands[follower_id], n_brands[follower_id])\n",
    "        \n",
    "    return p_rank, n_rank\n",
    "\n",
    "positive_rank_prediction, negative_rank_prediction = get_prediction(train_samples,removed_brands,brands_for_training)"
   ]
  },
  {
   "cell_type": "code",
   "execution_count": 19,
   "metadata": {
    "collapsed": false
   },
   "outputs": [
    {
     "data": {
      "image/png": "[encoded data removed]",
      "text/plain": [
       "<matplotlib.figure.Figure at 0xc8dcc7b358>"
      ]
     },
     "metadata": {},
     "output_type": "display_data"
    }
   ],
   "source": [
    "plot_histogram(list(positive_rank_prediction.values()),'Jaccard Rank Distribution(+)')"
   ]
  },
  {
   "cell_type": "code",
   "execution_count": 20,
   "metadata": {
    "collapsed": false
   },
   "outputs": [
    {
     "data": {
      "image/png": "[encoded data removed]",
      "text/plain": [
       "<matplotlib.figure.Figure at 0xc8de197e48>"
      ]
     },
     "metadata": {},
     "output_type": "display_data"
    }
   ],
   "source": [
    "plot_histogram(list(negative_rank_prediction.values()),'Jaccard Rank Distribution(-)')"
   ]
  },
  {
   "cell_type": "code",
   "execution_count": null,
   "metadata": {
    "collapsed": false
   },
   "outputs": [],
   "source": [
    "print('\\t\\t\\t  ',['mean', 'median', 'max', 'min'])\n",
    "positive_statistics = get_statistics(positive_rank_prediction.values())\n",
    "print('Jaccard Rank Statistics(+)', positive_statistics)\n",
    "negative_statistics = get_statistics(negative_rank_prediction.values())\n",
    "print('Jaccard Rank Statistics(-)', negative_statistics)"
   ]
  },
  {
   "cell_type": "code",
   "execution_count": null,
   "metadata": {
    "collapsed": false
   },
   "outputs": [],
   "source": [
    "def get_worst_prediction(prediction, brands, source='+'):\n",
    "    if source == '+':\n",
    "        id_worst,rank_worst = max(prediction.items(), key=lambda x: x[1])\n",
    "    elif source == '-':\n",
    "        id_worst,rank_worst = min(prediction.items(), key=lambda x: x[1])\n",
    "    print('(%s) Worst Jaccard Prediction %d for %s followed by %s'%(source, rank_worst, brands[id_worst], id_worst))\n",
    "    print('Brands Followed', get_brands(id_worst))\n",
    "get_worst_prediction(positive_rank_prediction,removed_brands, '+')\n",
    "get_worst_prediction(negative_rank_prediction,brands_for_training,'-')"
   ]
  },
  {
   "cell_type": "code",
   "execution_count": null,
   "metadata": {
    "collapsed": true
   },
   "outputs": [],
   "source": [
    "def bar_plot(data_points, title):\n",
    "    x = [p[0] for p in data_points]\n",
    "    y = [p[1] for p in data_points]\n",
    "    plt.bar(x,y)\n",
    "    plt.title(title)"
   ]
  },
  {
   "cell_type": "code",
   "execution_count": 24,
   "metadata": {
    "collapsed": true
   },
   "outputs": [],
   "source": [
    "def get_rank_by_brands_count(follower_ids, prediction_rank):\n",
    "    mean_rank = {}\n",
    "    brands_followed_count = {}\n",
    "    for follower_id in follower_ids:\n",
    "        count = len(get_brands(follower_id))\n",
    "        if count in mean_rank.keys():\n",
    "            mean_rank[count] += prediction_rank[follower_id]\n",
    "            brands_followed_count[count] += 1\n",
    "        else:\n",
    "            mean_rank[count] = prediction_rank[follower_id]\n",
    "            brands_followed_count[count] = 1\n",
    "    for k in mean_rank:\n",
    "        mean_rank[k] //= brands_followed_count[k]\n",
    "    return mean_rank"
   ]
  },
  {
   "cell_type": "code",
   "execution_count": 25,
   "metadata": {
    "collapsed": false
   },
   "outputs": [
    {
     "data": {
      "image/png": "[encoded data removed]",
      "text/plain": [
       "<matplotlib.figure.Figure at 0xc8dee4ac50>"
      ]
     },
     "metadata": {},
     "output_type": "display_data"
    }
   ],
   "source": [
    "positive_mean_ranks = get_rank_by_brands_count(train_samples, positive_rank_prediction)\n",
    "bar_plot(positive_mean_ranks.items(),'Average Rank by number of brands followed(+)')"
   ]
  },
  {
   "cell_type": "code",
   "execution_count": 26,
   "metadata": {
    "collapsed": false
   },
   "outputs": [
    {
     "data": {
      "image/png": "[encoded data removed]",
      "text/plain": [
       "<matplotlib.figure.Figure at 0xc8dee4a940>"
      ]
     },
     "metadata": {},
     "output_type": "display_data"
    }
   ],
   "source": [
    "negative_mean_ranks = get_rank_by_brands_count(train_samples, negative_rank_prediction)\n",
    "bar_plot(negative_mean_ranks.items(),'Average Rank by number of brands followed(-)')"
   ]
  },
  {
   "cell_type": "code",
   "execution_count": 27,
   "metadata": {
    "collapsed": true
   },
   "outputs": [],
   "source": [
    "def get_ranks_by_followed_brands_count(follower_ids, rank_prediction):\n",
    "\n",
    "    statistics = {}\n",
    "    brands_followed = {}\n",
    "    for follower_id in follower_ids:\n",
    "        count = len(get_brands(follower_id))\n",
    "        if count in brands_followed.keys():\n",
    "            brands_followed[count].append(rank_prediction[follower_id])\n",
    "        else:\n",
    "            brands_followed[count] = [rank_prediction[follower_id]]\n",
    "    for key in brands_followed:\n",
    "        statistics[key] = get_statistics(brands_followed[key])\n",
    "    \n",
    "    return statistics\n",
    "\n",
    "positive_binned_statistics = get_ranks_by_followed_brands_count(train_samples, positive_rank_prediction)\n",
    "negative_binned_statistics = get_ranks_by_followed_brands_count(train_samples, negative_rank_prediction)"
   ]
  },
  {
   "cell_type": "code",
   "execution_count": null,
   "metadata": {
    "collapsed": false
   },
   "outputs": [],
   "source": [
    "def get_Jaccard_scores(follower_id):\n",
    "    \n",
    "    brands_followed = get_brands(follower_id)\n",
    "    brands_not_followed = set(BRANDS_LIST) - brands_followed\n",
    "\n",
    "    count = len(brands_followed)\n",
    "    scores = {}\n",
    "    for brand_not_followed in brands_not_followed:\n",
    "        bnf_idx = BRANDS_LIST.index(brand_not_followed)\n",
    "        scores[brand_not_followed] = 0\n",
    "        \n",
    "        for brand_followed in brands_followed:\n",
    "            bf_idx = BRANDS_LIST.index(brand_followed)\n",
    "            scores[brand_not_followed] += DIST_MAT[bf_idx, bnf_idx]\n",
    "    for b in scores:\n",
    "        scores[b] /= count\n",
    "    return scores"
   ]
  },
  {
   "cell_type": "code",
   "execution_count": null,
   "metadata": {
    "collapsed": true
   },
   "outputs": [],
   "source": [
    "def get_adamic_adar_score(follower, brand):\n",
    "    from math import log\n",
    "    scores = {}\n",
    "    \n",
    "    brands_followed = get_brands(follower)\n",
    "    count = len(brands_followed)\n",
    "    for b in brands_followed:\n",
    "        common_neighbours = get_followers(b) & get_followers(brand)\n",
    "        scores[b] = 0\n",
    "        for f in common_neighbours:\n",
    "            scores[b] += 1/log(len(get_brands(f)))\n",
    "        \n",
    "    return get_statistics(scores.values())"
   ]
  },
  {
   "cell_type": "code",
   "execution_count": null,
   "metadata": {
    "collapsed": true
   },
   "outputs": [],
   "source": [
    "def get_common_neighbor_stats(follower, brand):\n",
    "    count = {}\n",
    "    \n",
    "    brands_followed = get_brands(follower)\n",
    "    for b in brands_followed:\n",
    "        common_neighbors = get_followers(b) & get_followers(brand)\n",
    "        count[b] = len(common_neighbors)        \n",
    "    return get_statistics(count.values())"
   ]
  },
  {
   "cell_type": "code",
   "execution_count": null,
   "metadata": {
    "collapsed": true
   },
   "outputs": [],
   "source": [
    "def get_sector_stats(follower, brand, similarity_scores):\n",
    "    brands_followed = get_brands(follower)\n",
    "    sector = get_sector(brand)\n",
    "    \n",
    "    count_by_sector = defaultdict(int)\n",
    "    score_by_sector = deafultdict(float)\n",
    "    for b in brands_followed:\n",
    "        sect = get_sector(b)\n",
    "        brand_sector.append((b,s))\n",
    "        count_by_sector[s] += 1\n",
    "        similar_brands = get_brands_in_sector(s)\n",
    "        for s_b in similar_brands:\n",
    "            if s_b in similarity_scores:\n",
    "                score_by_sector[s] += similarity_scores[s_b]\n",
    "\n",
    "    count_list = []\n",
    "    score_list = []\n",
    "    for s in SECTORS:\n",
    "        c = count_by_sector[s]\n",
    "        count_list.append(c)\n",
    "        if c > 0:\n",
    "            score_list.append(score_by_sector[s]/c)\n",
    "        else:\n",
    "            score_list.append(0.0)\n",
    "\n",
    "    return count_list + score_list"
   ]
  },
  {
   "cell_type": "code",
   "execution_count": null,
   "metadata": {
    "collapsed": true
   },
   "outputs": [],
   "source": [
    "def get_features(follower, brand, scores):\n",
    "    \n",
    "    record = []\n",
    "    record.append(scores[brand])\n",
    "    record.extend(get_statistics(scores.values()))\n",
    "    \n",
    "    \n",
    "    n_brand = len(get_brands(follower))\n",
    "    record.append(n_brand/N_BRANDS)\n",
    "    \n",
    "    n_follower = len(get_followers(brand))    \n",
    "    record.append(n_follower/N_FOLLOWERS)\n",
    "    \n",
    "    sector_stats = get_sector_stats(follower, brand, scores)\n",
    "    record.extend(sector_stats)\n",
    "    \n",
    "    #prefrtl_atchmnt = n_brand * n_follower\n",
    "    #record.append(prefrtl_atchmnt)\n",
    "    \n",
    "    #aa_score = get_adamic_adar_score(follower,brand)\n",
    "    #record.extend(aa_score)\n",
    "    \n",
    "    cn_score = get_common_neighbor_stats(follower,brand)\n",
    "    record.extend(cn_score)\n",
    "    \n",
    "    #cosine_sim = get_cosine_stats(follower, brand)\n",
    "    #sim_rank = get_sim_rank_stats(follower, brand)\n",
    "    \n",
    "    return record"
   ]
  },
  {
   "cell_type": "code",
   "execution_count": null,
   "metadata": {
    "collapsed": false
   },
   "outputs": [],
   "source": [
    "def get_records(follower_ids, removed_brands, brands):\n",
    "    positive_records = {}\n",
    "    negative_records = {}\n",
    "    for follower_id in follower_ids:\n",
    "        p_brand = removed_brands[follower_id]\n",
    "        n_brand = brands[follower_id]\n",
    "        scores = get_Jaccard_scores(follower_id)\n",
    "        p_record = get_features(follower_id, p_brand,scores)\n",
    "        n_record = get_features(follower_id, n_brand,scores)\n",
    "        positive_records[follower_id] = p_record\n",
    "        negative_records[follower_id] = n_record\n",
    "    return positive_records, negative_records\n",
    "\n",
    "positive_records, negative_records = get_records(train_samples, removed_brands, brands_for_training)"
   ]
  },
  {
   "cell_type": "code",
   "execution_count": null,
   "metadata": {
    "collapsed": false
   },
   "outputs": [],
   "source": [
    "def get_sample_stats(records):\n",
    "    records = np.asarray(records)\n",
    "    n, m = records.shape\n",
    "    for i in range(m):\n",
    "        print('Feature %d:'%(i+1), get_statistics(list(records[:,i])))\n",
    "print('(+) Samples Stats:')\n",
    "get_sample_stats(list(positive_records.values()))\n",
    "print('(-) Samples Stats:')\n",
    "get_sample_stats(list(negative_records.values()))"
   ]
  },
  {
   "cell_type": "code",
   "execution_count": null,
   "metadata": {
    "collapsed": false
   },
   "outputs": [],
   "source": [
    "x_train = []\n",
    "y_train = []\n",
    "for follower_id in train_samples:\n",
    "    x_train.append(positive_records[follower_id])\n",
    "    y_train.append(1)\n",
    "    x_train.append(negative_records[follower_id])\n",
    "    y_train.append(0)\n",
    "\n",
    "x_train = np.asarray(x_train)\n",
    "y_train = np.asarray(y_train)"
   ]
  },
  {
   "cell_type": "code",
   "execution_count": null,
   "metadata": {
    "collapsed": true
   },
   "outputs": [],
   "source": [
    "def get_metrics(actual, prediction, verbose=False):\n",
    "    from sklearn.metrics import confusion_matrix, f1_score, accuracy_score, precision_score, recall_score\n",
    "    metrics = {}\n",
    "    metrics['cm'] = confusion_matrix(actual,prediction)\n",
    "    metrics['accuracy'] = accuracy_score(actual,prediction)\n",
    "    metrics['precision'] = precision_score(actual,prediction)\n",
    "    metrics['recall'] = recall_score(actual,prediction)\n",
    "    #metrics['f1'] = f1_score(actual,prediction)\n",
    "    if verbose:\n",
    "        print('Confusion Matrix:\\n',metrics['cm'])\n",
    "        #print('F1-Score:',metrics['f1'])\n",
    "        print('Accuracy:', metrics['accuracy'])\n",
    "        print('Precision:', metrics['precision'])\n",
    "        print('Recall:', metrics['recall'])\n",
    "    return metrics    "
   ]
  },
  {
   "cell_type": "code",
   "execution_count": null,
   "metadata": {
    "collapsed": true
   },
   "outputs": [],
   "source": [
    "def plot_pr_curve(y_true, y_prob):\n",
    "    from sklearn.metrics import precision_recall_curve\n",
    "    precision, recall, thresholds = precision_recall_curve(y_true, y_prob)\n",
    "    plt.plot(recall, precision, label='Precision-Recall curve')\n",
    "\n",
    "def plot_auc_curve(y_true, y_prob):\n",
    "    from sklearn.metrics import roc_auc_score, roc_curve\n",
    "    print('AUC:',roc_auc_score(y_true, y_prob))\n",
    "    fpr, tpr, thresholds = roc_curve(y_true, y_prob)\n",
    "    plt.plot(fpr, tpr, label='ROC Curve')"
   ]
  },
  {
   "cell_type": "code",
   "execution_count": null,
   "metadata": {
    "collapsed": true
   },
   "outputs": [],
   "source": [
    "def getFMeasure(precision, recall):\n",
    "    k = len(precision)\n",
    "    fm = np.zeros(k)\n",
    "    for i in range(k):\n",
    "        fm[i] = 2* precision[i]*recall[i]/(precision[i]+recall[i])\n",
    "    return fm"
   ]
  },
  {
   "cell_type": "code",
   "execution_count": null,
   "metadata": {
    "collapsed": false
   },
   "outputs": [],
   "source": [
    "def get_overall_metrics(metrics, n):\n",
    "    \n",
    "    conf_mat = np.zeros((2, 2))\n",
    "    precision = 0 #np.empty((1,2))\n",
    "    recall = 0 #np.empty((1,2))\n",
    "    accuracy=0\n",
    "    \n",
    "    for i in range(n):\n",
    "        conf_mat = np.add(conf_mat, metrics[i]['cm'])\n",
    "        #precision = np.vstack((precision, metrics[i]['precision']))\n",
    "        #recall = np.vstack((recall, metrics[i]['recall']))\n",
    "        precision += metrics[i]['precision']\n",
    "        recall += metrics[i]['recall']\n",
    "        accuracy += metrics[i]['accuracy']\n",
    "    \n",
    "    precision /= n \n",
    "    recall /= n \n",
    "    #fMeasure = getFMeasure(precision, recall)\n",
    "    accuracy/=n\n",
    "    \n",
    "    print(\"Confusion Matrix:\")\n",
    "    print (conf_mat)\n",
    "    print (\"Accuracy\\t:\\t\", accuracy)\n",
    "    print (\"Precision\\t:\\t\", precision)\n",
    "    print (\"Recall\\t\\t:\\t\", recall)\n",
    "    #print (\"F-Measure\\t:\\t\", fMeasure[1])\n",
    "        "
   ]
  },
  {
   "cell_type": "code",
   "execution_count": null,
   "metadata": {
    "collapsed": true
   },
   "outputs": [],
   "source": [
    "def standardize(X):\n",
    "    from sklearn.preprocessing import StandardScaler\n",
    "    return StandardScaler().fit_transform(X)\n",
    "x_train = standardize(x_train)"
   ]
  },
  {
   "cell_type": "code",
   "execution_count": null,
   "metadata": {
    "collapsed": false
   },
   "outputs": [],
   "source": [
    "from sklearn.linear_model import LogisticRegression,SGDClassifier\n",
    "class BaselineClf():\n",
    "    def __init__(self):\n",
    "        #param = {'C': 166.81005372000593, 'dual': False, 'penalty': 'l1', 'solver': 'liblinear', 'tol': 0.001}\n",
    "        #self.clf = LogisticRegression(**param)\n",
    "        param = {'alpha': 0.0001, 'l1_ratio': 0.75, 'learning_rate': 'optimal', 'loss': 'modified_huber', 'n_iter': 50, 'penalty': 'l1'}\n",
    "        #param={'alpha': 0.0001, 'learning_rate': 'optimal', 'loss': 'modified_huber', 'n_iter': 50, 'penalty': 'elasticnet'}\n",
    "        self.clf = SGDClassifier(**param)\n",
    "    \n",
    "    def fit(self, X, Y):\n",
    "        k = 10   #K-Fold \n",
    "        from sklearn.model_selection import KFold\n",
    "        kfold_cv = KFold(n_splits=k)\n",
    "        results = []\n",
    "        for train, test in kfold_cv.split(X):\n",
    "            self.clf.fit(X[train],Y[train])\n",
    "            y_predict = self.clf.predict(X[test])\n",
    "            results.append(get_metrics(Y[test], y_predict))\n",
    "        get_overall_metrics(results, k)\n",
    "    \n",
    "    def predict(self, X):\n",
    "        return self.clf.predict(X)\n",
    "    \n",
    "    def predict_proba(self, X):\n",
    "        return self.clf.predict_proba(X)       \n",
    "    \n",
    "    def get_coef(self):\n",
    "        print('\\nCoefficients:')\n",
    "        for i in range(self.clf.coef_.shape[1]):\n",
    "            print('Feature %d : %f'%(i+1, self.clf.coef_[0,i]))\n",
    "    def precision_recall_curve(self):\n",
    "        plot_pr_curve(y_train, y_train_prob[:,1])\n",
    "    \n",
    "    def auc_curve(self):\n",
    "        plot_auc_curve(y_train, y_train_prob[:,1])"
   ]
  },
  {
   "cell_type": "code",
   "execution_count": null,
   "metadata": {
    "collapsed": false
   },
   "outputs": [],
   "source": [
    "clf = BaselineClf()\n",
    "clf.fit(x_train, y_train)\n",
    "clf.get_coef()"
   ]
  },
  {
   "cell_type": "code",
   "execution_count": 36,
   "metadata": {
    "collapsed": false
   },
   "outputs": [],
   "source": [
    "#0.0001,modified_huber,l2,optimal 0.85\n",
    "#'alpha': 0.0001, 'learning_rate': 'optimal', 'loss': 'modified_huber', 'n_iter': 50, 'penalty': 'elasticnet', 0.88\n",
    "#'alpha': 0.0001, 'l1_ratio': 0.9, 'learning_rate': 'optimal', 'loss': 'hinge', 'n_iter': 50, 'penalty': 'elasticnet', 0.888\n",
    "#'alpha': 0.0001, 'eta0': 0.1, 'l1_ratio': 0.75, 'learning_rate': 'constant', 'loss': 'hinge', 'n_iter': 100, 'penalty': 'l1'}, 0.8899\n",
    "#'alpha': 0.0001, 'l1_ratio': 0.75, 'learning_rate': 'optimal', 'loss': 'modified_huber', 'n_iter': 50, 'penalty': 'l1'}, 0.893\n",
    "\n",
    "from sklearn.model_selection import GridSearchCV\n",
    "from sklearn.linear_model import SGDClassifier\n",
    "params = {\n",
    "    'loss': ['hinge', 'log', 'modified_huber'],\n",
    "    'penalty':['elasticnet'],\n",
    "    'alpha': [0.0001, 0.001, 0.01, 0.1, 1], \n",
    "    'learning_rate': ['constant','invscaling'],\n",
    "    'n_iter': [5, 50, 100],\n",
    "    'l1_ratio': [0.15, 0.3, 0.45, 0.6, 0.75, 0.9],\n",
    "    'eta0': [0.1, 0.5]\n",
    "}\n",
    "search_clf = GridSearchCV(estimator=SGDClassifier(), param_grid=params)"
   ]
  },
  {
   "cell_type": "code",
   "execution_count": 88,
   "metadata": {
    "collapsed": false
   },
   "outputs": [
    {
     "data": {
      "text/plain": [
       "GridSearchCV(cv=None, error_score='raise',\n",
       "       estimator=SGDClassifier(alpha=0.0001, average=False, class_weight=None, epsilon=0.1,\n",
       "       eta0=0.0, fit_intercept=True, l1_ratio=0.15,\n",
       "       learning_rate='optimal', loss='hinge', n_iter=5, n_jobs=1,\n",
       "       penalty='l2', power_t=0.5, random_state=None, shuffle=True,\n",
       "       verbose=0, warm_start=False),\n",
       "       fit_params={}, iid=True, n_jobs=1,\n",
       "       param_grid={'l1_ratio': [0.15, 0.3, 0.45, 0.6, 0.75, 0.9], 'penalty': ['elasticnet'], 'alpha': [0.0001, 0.001, 0.01, 0.1, 1], 'n_iter': [5, 50, 100, 200, 250], 'loss': ['hinge', 'log', 'modified_huber'], 'learning_rate': ['constant', 'invscaling'], 'eta0': [0.1, 0.5]},\n",
       "       pre_dispatch='2*n_jobs', refit=True, return_train_score=True,\n",
       "       scoring=None, verbose=0)"
      ]
     },
     "execution_count": 88,
     "metadata": {},
     "output_type": "execute_result"
    }
   ],
   "source": [
    "search_clf.fit(x_train,y_train)"
   ]
  },
  {
   "cell_type": "code",
   "execution_count": 89,
   "metadata": {
    "collapsed": false,
    "scrolled": true
   },
   "outputs": [
    {
     "data": {
      "text/plain": [
       "SGDClassifier(alpha=0.0001, average=False, class_weight=None, epsilon=0.1,\n",
       "       eta0=0.5, fit_intercept=True, l1_ratio=0.9,\n",
       "       learning_rate='constant', loss='hinge', n_iter=250, n_jobs=1,\n",
       "       penalty='elasticnet', power_t=0.5, random_state=None, shuffle=True,\n",
       "       verbose=0, warm_start=False)"
      ]
     },
     "execution_count": 89,
     "metadata": {},
     "output_type": "execute_result"
    }
   ],
   "source": [
    "search_clf.best_estimator_"
   ]
  },
  {
   "cell_type": "code",
   "execution_count": 90,
   "metadata": {
    "collapsed": false
   },
   "outputs": [
    {
     "data": {
      "text/plain": [
       "{'alpha': 0.0001,\n",
       " 'eta0': 0.5,\n",
       " 'l1_ratio': 0.9,\n",
       " 'learning_rate': 'constant',\n",
       " 'loss': 'hinge',\n",
       " 'n_iter': 250,\n",
       " 'penalty': 'elasticnet'}"
      ]
     },
     "execution_count": 90,
     "metadata": {},
     "output_type": "execute_result"
    }
   ],
   "source": [
    "search_clf.best_params_"
   ]
  },
  {
   "cell_type": "code",
   "execution_count": 91,
   "metadata": {
    "collapsed": false
   },
   "outputs": [
    {
     "data": {
      "text/plain": [
       "0.88716188938231733"
      ]
     },
     "execution_count": 91,
     "metadata": {},
     "output_type": "execute_result"
    }
   ],
   "source": [
    "search_clf.best_score_"
   ]
  },
  {
   "cell_type": "code",
   "execution_count": 113,
   "metadata": {
    "collapsed": true
   },
   "outputs": [],
   "source": [
    "#'C': 3593.8136638046258, 'dual': False, 'penalty': 'l2', 'solver': 'lbfgs'\n",
    "#'C': 27825.594022071258,  'dual': False,  'penalty': 'l2',  'solver': 'liblinear' 0.886\n",
    "#'C': 27825.594022071258, 'dual': False, 'penalty': 'l2', 'solver': 'lbfgs', 0.886\n",
    "#'C': 166.81005372000593, 'dual': False, 'penalty': 'l1', 'solver': 'liblinear', 'tol': 0.001}\n",
    "from sklearn.model_selection import GridSearchCV\n",
    "from sklearn.linear_model import LogisticRegression, RidgeClassifier\n",
    "c_range = np.logspace(0, 5, 10)\n",
    "params = {\n",
    "    'penalty': ['l2'],\n",
    "    'C': c_range,\n",
    "    'tol': [1e-4, 1e-3, 1e-2],\n",
    "    'solver': ['newton-cg', 'lbfgs'] #['liblinear', 'sag'] ['liblinear']\n",
    "}\n",
    "search_clf = GridSearchCV(estimator=LogisticRegression(), param_grid=params)"
   ]
  },
  {
   "cell_type": "code",
   "execution_count": 114,
   "metadata": {
    "collapsed": false
   },
   "outputs": [
    {
     "data": {
      "text/plain": [
       "LogisticRegression(C=27825.594022071258, class_weight=None, dual=False,\n",
       "          fit_intercept=True, intercept_scaling=1, max_iter=100,\n",
       "          multi_class='ovr', n_jobs=1, penalty='l2', random_state=None,\n",
       "          solver='lbfgs', tol=0.0001, verbose=0, warm_start=False)"
      ]
     },
     "execution_count": 114,
     "metadata": {},
     "output_type": "execute_result"
    }
   ],
   "source": [
    "search_clf.fit(x_train,y_train)\n",
    "search_clf.best_estimator_"
   ]
  },
  {
   "cell_type": "code",
   "execution_count": 115,
   "metadata": {
    "collapsed": false
   },
   "outputs": [
    {
     "data": {
      "text/plain": [
       "{'C': 27825.594022071258, 'penalty': 'l2', 'solver': 'lbfgs', 'tol': 0.0001}"
      ]
     },
     "execution_count": 115,
     "metadata": {},
     "output_type": "execute_result"
    }
   ],
   "source": [
    "search_clf.best_params_"
   ]
  },
  {
   "cell_type": "code",
   "execution_count": 116,
   "metadata": {
    "collapsed": false
   },
   "outputs": [
    {
     "data": {
      "text/plain": [
       "0.88635446104158255"
      ]
     },
     "execution_count": 116,
     "metadata": {},
     "output_type": "execute_result"
    }
   ],
   "source": [
    "search_clf.best_score_"
   ]
  },
  {
   "cell_type": "code",
   "execution_count": 118,
   "metadata": {
    "collapsed": true
   },
   "outputs": [],
   "source": [
    "#'alpha': 0.0001, 'solver': 'lsqr', 'tol': 0.001, 0.86\n",
    "from sklearn.model_selection import GridSearchCV\n",
    "from sklearn.linear_model import RidgeClassifier\n",
    "params = {\n",
    "    'alpha': [1,0.1, 0.01, 0.001, 0.0001, 0.00001],\n",
    "    'tol': [1e-4, 1e-3, 1e-2],\n",
    "    'solver': ['auto', 'svd', 'cholesky', 'lsqr', 'sparse_cg', 'sag'] \n",
    "}\n",
    "search_clf = GridSearchCV(estimator=RidgeClassifier(), param_grid=params)"
   ]
  },
  {
   "cell_type": "code",
   "execution_count": 119,
   "metadata": {
    "collapsed": false
   },
   "outputs": [
    {
     "name": "stderr",
     "output_type": "stream",
     "text": [
      "C:\\Users\\admin\\Anaconda\\envs\\ana35\\lib\\site-packages\\sklearn\\linear_model\\sag.py:286: ConvergenceWarning: The max_iter was reached which means the coef_ did not converge\n",
      "  \"the coef_ did not converge\", ConvergenceWarning)\n"
     ]
    },
    {
     "data": {
      "text/plain": [
       "RidgeClassifier(alpha=0.0001, class_weight=None, copy_X=True,\n",
       "        fit_intercept=True, max_iter=None, normalize=False,\n",
       "        random_state=None, solver='lsqr', tol=0.001)"
      ]
     },
     "execution_count": 119,
     "metadata": {},
     "output_type": "execute_result"
    }
   ],
   "source": [
    "search_clf.fit(x_train,y_train)\n",
    "search_clf.best_estimator_"
   ]
  },
  {
   "cell_type": "code",
   "execution_count": null,
   "metadata": {
    "collapsed": false
   },
   "outputs": [],
   "source": [
    "def add_removed_links(follower_ids, removed_brands):\n",
    "    for follower in follower_ids:\n",
    "        brand = removed_brands[follower]\n",
    "        set_brands(follower, get_brands(follower) | set([brand]))\n",
    "        set_followers(brand, get_followers(brand) | set([follower]))\n",
    "\n",
    "add_removed_links(train_samples, removed_brands)"
   ]
  },
  {
   "cell_type": "code",
   "execution_count": null,
   "metadata": {
    "collapsed": false
   },
   "outputs": [],
   "source": [
    "removed_brands_test = remove_links(test_samples)"
   ]
  },
  {
   "cell_type": "code",
   "execution_count": null,
   "metadata": {
    "collapsed": true
   },
   "outputs": [],
   "source": [
    "#Only For Repeating the Experiment\n",
    "def reset_links(update_brands):\n",
    "    for f_id in update_brands:\n",
    "        brand = update_brands[f_id]\n",
    "        set_brands(f_id,get_brands(follower_id) - set([brand]))\n",
    "        set_followers(brand, get_followers(brand) - set([follower_id]))\n",
    "        \n",
    "#reset_links(removed_brands)\n",
    "#add_removed_links(test_samples, removed_brands_test)"
   ]
  },
  {
   "cell_type": "code",
   "execution_count": null,
   "metadata": {
    "collapsed": false
   },
   "outputs": [],
   "source": [
    "DIST_MAT = get_similarity_matrix()\n",
    "print('%d x %d Similarity Matrix created.'%(N_BRANDS,N_BRANDS))"
   ]
  },
  {
   "cell_type": "code",
   "execution_count": null,
   "metadata": {
    "collapsed": false
   },
   "outputs": [],
   "source": [
    "k = 50\n",
    "missing = []\n",
    "brands_to_rank = {}\n",
    "brands_to_lookup = {}\n",
    "for follower_id in test_samples:\n",
    "    scores = get_Jaccard_scores(follower_id)\n",
    "    candidates = sorted(scores.items(), key=lambda x: x[1]/len(get_brands(follower_id)), reverse=True)\n",
    "    brands_to_rank[follower_id] = []\n",
    "    brands_to_lookup[follower_id] = []\n",
    "    for brand, score in candidates[:k]:\n",
    "        record = get_features(follower_id, brand,scores)\n",
    "        brands_to_rank[follower_id].append(record)\n",
    "        brands_to_lookup[follower_id].append(brand)\n",
    "    if removed_brands_test[follower_id] not in brands_to_lookup[follower_id]:\n",
    "        print('Missing brand %s for %d'%(removed_brands_test[follower_id], follower_id))\n",
    "        pos = [x+1 for x, y in enumerate(candidates) if y[0] == removed_brands_test[follower_id]]\n",
    "        print('Current Position:',pos[0])\n",
    "        missing.append(pos[0])\n",
    "        print('Brands followed are',','.join(list(UNIQUE_FOLLOWERS[follower_id])))\n",
    "print('Missing Count:%d/%d'%(len(missing),len(test_samples)))\n",
    "print(get_statistics(missing))"
   ]
  },
  {
   "cell_type": "code",
   "execution_count": null,
   "metadata": {
    "collapsed": false
   },
   "outputs": [],
   "source": [
    "y_test_predict = []\n",
    "y_test_actual = []\n",
    "correct = 0\n",
    "for follower_id in test_samples:\n",
    "    x_test = []\n",
    "    candidates = brands_to_rank[follower_id]\n",
    "    \n",
    "    for record in candidates:\n",
    "        x_test.append(record)\n",
    "    #get_sample_stats(x_test)\n",
    "    y_test_prob = clf.predict_proba(standardize(x_test))\n",
    "    result = [(x,y[1]) for x,y in zip(brands_to_lookup[follower_id], y_test_prob)]\n",
    "    result = sorted(result, key=lambda x: x[1], reverse=True)[0]\n",
    "    if result[0] == removed_brands_test[follower_id]:\n",
    "        correct += 1\n",
    "    print(result[0]+'('+get_sector(result[0])+')', result[1], '[',removed_brands_test[follower_id]+'('+ get_sector(removed_brands_test[follower_id])+')',']')\n",
    "print('%d/%d ='%(correct, len(test_samples)), correct/len(test_samples))\n",
    "print('%d/%d ='%(correct, len(test_samples)-len(missing)), correct/(len(test_samples)-len(missing)))"
   ]
  },
  {
   "cell_type": "code",
   "execution_count": null,
   "metadata": {
    "collapsed": true
   },
   "outputs": [],
   "source": []
  }
 ],
 "metadata": {
  "anaconda-cloud": {},
  "kernelspec": {
   "display_name": "Python [ana35]",
   "language": "python",
   "name": "Python [ana35]"
  },
  "language_info": {
   "codemirror_mode": {
    "name": "ipython",
    "version": 3
   },
   "file_extension": ".py",
   "mimetype": "text/x-python",
   "name": "python",
   "nbconvert_exporter": "python",
   "pygments_lexer": "ipython3",
   "version": "3.5.2"
  }
 },
 "nbformat": 4,
 "nbformat_minor": 0
}
