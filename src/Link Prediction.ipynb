{
 "cells": [
  {
   "cell_type": "code",
   "execution_count": null,
   "metadata": {
    "collapsed": true
   },
   "outputs": [],
   "source": [
    "import random\n",
    "import numpy as np\n",
    "import matplotlib.pyplot as plt\n",
    "%matplotlib inline\n",
    "from itertools import combinations"
   ]
  },
  {
   "cell_type": "code",
   "execution_count": 67,
   "metadata": {
    "collapsed": false
   },
   "outputs": [
    {
     "name": "stdout",
     "output_type": "stream",
     "text": [
      "No. of Unique Followers 4133961\n",
      "No. of Brands 100\n"
     ]
    }
   ],
   "source": [
    "unique_followers = {}\n",
    "brand_followers = {}\n",
    "limit = 100\n",
    "row_id = 0\n",
    "with open('data/brand_followers_final.tsv') as data_file:\n",
    "    for row in data_file:\n",
    "        followers = row.split()\n",
    "        brand = followers.pop(0)\n",
    "        brand_followers[brand] = []\n",
    "        if len(followers) > 1000:  #Filtering brands with less than 1000 followers\n",
    "            for x in followers:\n",
    "                f = int(x)\n",
    "                brand_followers[brand].append(f)\n",
    "                if f not in unique_followers.keys():\n",
    "                    unique_followers[f] = []\n",
    "                unique_followers[f].append(brand)\n",
    "        row_id += 1\n",
    "        if row_id == limit:\n",
    "            break\n",
    "                \n",
    "print('No. of Unique Followers', len(unique_followers.keys()))\n",
    "print('No. of Brands', len(brand_followers.keys()))"
   ]
  },
  {
   "cell_type": "code",
   "execution_count": 68,
   "metadata": {
    "collapsed": false
   },
   "outputs": [
    {
     "data": {
      "text/plain": [
       "<matplotlib.text.Text at 0x7bc8611b70>"
      ]
     },
     "execution_count": 68,
     "metadata": {},
     "output_type": "execute_result"
    },
    {
     "data": {
      "image/png": "[encoded data removed]",
      "text/plain": [
       "<matplotlib.figure.Figure at 0x7bb4fce860>"
      ]
     },
     "metadata": {},
     "output_type": "display_data"
    }
   ],
   "source": [
    "hist, bins = np.histogram(np.asarray([len(v) for v in list(unique_followers.values())]),bins=50)    \n",
    "width = 0.9 * (bins[1] - bins[0])\n",
    "center = (bins[:-1] + bins[1:]) / 2\n",
    "plt.yscale(\"log\")\n",
    "plt.bar(center, hist, align='center', width=width)\n",
    "plt.title('Followers Count Vs Brands Followed')"
   ]
  },
  {
   "cell_type": "code",
   "execution_count": 76,
   "metadata": {
    "collapsed": false
   },
   "outputs": [
    {
     "name": "stdout",
     "output_type": "stream",
     "text": [
      "Chosen follower 62969155 who follows 33 brands\n"
     ]
    }
   ],
   "source": [
    "choice = random.choice(range(len(brand_followers.keys())))\n",
    "#choice = 100\n",
    "follower_id = sorted(unique_followers.items(), key=lambda x: len(x[1]), reverse=True)[choice][0]\n",
    "print('Chosen follower %d who follows %d brands'%(follower_id,len(unique_followers[follower_id])))"
   ]
  },
  {
   "cell_type": "code",
   "execution_count": 77,
   "metadata": {
    "collapsed": false
   },
   "outputs": [
    {
     "data": {
      "text/plain": [
       "['100percentpure',\n",
       " '5hourenergy',\n",
       " '8oclockcoffee',\n",
       " '8thcontinentsoy',\n",
       " 'acneorg',\n",
       " 'alchimieforever',\n",
       " 'allegrocoffee',\n",
       " 'allure_magazine',\n",
       " 'alternahaircare',\n",
       " 'amanabrand',\n",
       " 'ampenergy',\n",
       " 'annieshomegrown',\n",
       " 'anntaylor',\n",
       " 'anthropologie',\n",
       " 'aquaphorus',\n",
       " 'arbonne',\n",
       " 'ardell_lashes',\n",
       " 'artistrybeauty',\n",
       " 'asus',\n",
       " 'att',\n",
       " 'auracacia',\n",
       " 'australiangold_',\n",
       " 'aveda',\n",
       " 'aveneusa',\n",
       " 'avoninsider',\n",
       " 'axe',\n",
       " 'baby_magic',\n",
       " 'balancebar',\n",
       " 'bananaboat',\n",
       " 'barbarasbakery',\n",
       " 'barbasolshave',\n",
       " 'bareminerals',\n",
       " 'barkeeperfriend']"
      ]
     },
     "execution_count": 77,
     "metadata": {},
     "output_type": "execute_result"
    }
   ],
   "source": [
    "unique_followers[follower_id]"
   ]
  },
  {
   "cell_type": "code",
   "execution_count": 78,
   "metadata": {
    "collapsed": false
   },
   "outputs": [
    {
     "data": {
      "text/plain": [
       "[('aubreyorganicsi', 0.00238427152906792),\n",
       " ('abreva', 0.002328713314914433),\n",
       " ('afterglow', 0.0019267730921594475),\n",
       " ('audreywhitby', 0.0018657500014829368),\n",
       " ('aidstillreqd', 0.0018221258424741622),\n",
       " ('babiesruscanada', 0.0018121911585435096),\n",
       " ('acne_free_skin', 0.0017943729851336262),\n",
       " ('barsfoods', 0.001766140166805537),\n",
       " ('adidas', 0.0017308595606644126),\n",
       " ('astonmartin', 0.0017230171323123372),\n",
       " ('arcona_la', 0.0017140108008981635),\n",
       " ('always', 0.001648878281583654),\n",
       " ('alphahydrox', 0.0016476454101349478),\n",
       " ('angelicastiffy', 0.0015447739806938197),\n",
       " ('airheadscandy', 0.0014801350182580572),\n",
       " ('acti_pr', 0.0014731557869524395),\n",
       " ('34degrees', 0.0014194331721264762),\n",
       " ('acureorganics', 0.0012833705772001057),\n",
       " ('alecjones33', 0.0012485230329628122),\n",
       " ('antimonkeybutt', 0.001247702061329624)]"
      ]
     },
     "execution_count": 78,
     "metadata": {},
     "output_type": "execute_result"
    }
   ],
   "source": [
    "scores = {}\n",
    "brands = unique_followers[follower_id]\n",
    "for b in combinations(brand_followers.keys(), 2):\n",
    "    if b[0] in brands and b[1] not in brands:\n",
    "        neighbors = set(brand_followers[b[0]])\n",
    "        neighbors2 = set(brand_followers[b[1]])\n",
    "        #scores.append((b[0],b[1], 1. * len(neighbors & neighbors2) / len(neighbors | neighbors2)))\n",
    "        if b[1] not in scores.keys():\n",
    "            score = 1. * len(neighbors & neighbors2) / len(neighbors | neighbors2)\n",
    "            scores[b[1]] = score\n",
    "        else:\n",
    "            scores[b[1]] += score\n",
    "sorted(scores.items(), key=lambda x: x[1]/len(unique_followers[follower_id]), reverse=True)[:20]"
   ]
  },
  {
   "cell_type": "code",
   "execution_count": 79,
   "metadata": {
    "collapsed": false
   },
   "outputs": [],
   "source": [
    "pct = 0.75\n",
    "to_remove = random.sample(unique_followers[follower_id], int(len(unique_followers[follower_id]) * pct))"
   ]
  },
  {
   "cell_type": "code",
   "execution_count": 80,
   "metadata": {
    "collapsed": false
   },
   "outputs": [
    {
     "name": "stdout",
     "output_type": "stream",
     "text": [
      "Removed 24 brands ['bananaboat', 'barkeeperfriend', 'ardell_lashes', 'att', 'avoninsider', 'asus', 'barbasolshave', '100percentpure', 'allure_magazine', 'anntaylor', '5hourenergy', 'alchimieforever', 'alternahaircare', '8oclockcoffee', 'ampenergy', 'auracacia', 'allegrocoffee', 'baby_magic', 'axe', 'aquaphorus', 'balancebar', 'artistrybeauty', 'australiangold_', 'aveda']\n"
     ]
    }
   ],
   "source": [
    "print('Removed %d brands'% len(to_remove), to_remove)"
   ]
  },
  {
   "cell_type": "code",
   "execution_count": 81,
   "metadata": {
    "collapsed": false
   },
   "outputs": [],
   "source": [
    "brands_followed = set(unique_followers[follower_id])\n",
    "brands_followed = brands_followed - set(to_remove)"
   ]
  },
  {
   "cell_type": "code",
   "execution_count": 82,
   "metadata": {
    "collapsed": false
   },
   "outputs": [
    {
     "name": "stdout",
     "output_type": "stream",
     "text": [
      "Predicted:\n",
      " ['barkeeperfriend', 'bananaboat', 'aquaphorus', 'balancebar', '8oclockcoffee', 'baby_magic', 'anntaylor', 'ardell_lashes', 'aveda', 'barsfoods', 'allure_magazine', 'antimonkeybutt', 'abreva', 'astonmartin', 'acne_free_skin', 'adidas', 'aubreyorganicsi', 'audreywhitby', 'babiesruscanada', 'babyganics', 'artisanafoods', 'alphahydrox', 'angelicastiffy', 'artistrybeauty']\n",
      "Actual:\n",
      " ['bananaboat', 'barkeeperfriend', 'ardell_lashes', 'att', 'avoninsider', 'asus', 'barbasolshave', '100percentpure', 'allure_magazine', 'anntaylor', '5hourenergy', 'alchimieforever', 'alternahaircare', '8oclockcoffee', 'ampenergy', 'auracacia', 'allegrocoffee', 'baby_magic', 'axe', 'aquaphorus', 'balancebar', 'artistrybeauty', 'australiangold_', 'aveda']\n",
      "Jaccard finds 11/24 for accuracy of 0.458\n"
     ]
    }
   ],
   "source": [
    "scores = {}\n",
    "for b in combinations(brand_followers.keys(), 2):\n",
    "    if b[0] in brands_followed and b[1] not in brands_followed:\n",
    "        neighbors = set(brand_followers[b[0]]) - set([follower_id])\n",
    "        neighbors2 = set(brand_followers[b[1]]) - set([follower_id])\n",
    "        #scores.append((b[0],b[1], 1. * len(neighbors & neighbors2) / len(neighbors | neighbors2)))\n",
    "        if b[1] not in scores.keys():\n",
    "            score = 1. * len(neighbors & neighbors2) / len(neighbors | neighbors2)\n",
    "            scores[b[1]] = score\n",
    "        else:\n",
    "            scores[b[1]] += score\n",
    "prediction = sorted(scores.items(), key=lambda x: x[1]/len(brands_followed), reverse=True)[:len(to_remove)]\n",
    "print('Predicted:\\n',[x[0] for x in prediction])\n",
    "print('Actual:\\n', to_remove)\n",
    "n_correct = len(set(unique_followers[follower_id]) & set([x[0] for x in prediction]))\n",
    "print('Jaccard finds %d/%d for accuracy of %.3f' % (n_correct, len(to_remove), \n",
    "                                                    (1. * n_correct / len(to_remove))))"
   ]
  },
  {
   "cell_type": "code",
   "execution_count": null,
   "metadata": {
    "collapsed": true
   },
   "outputs": [],
   "source": []
  }
 ],
 "metadata": {
  "kernelspec": {
   "display_name": "Python [ana35]",
   "language": "python",
   "name": "Python [ana35]"
  },
  "language_info": {
   "codemirror_mode": {
    "name": "ipython",
    "version": 3
   },
   "file_extension": ".py",
   "mimetype": "text/x-python",
   "name": "python",
   "nbconvert_exporter": "python",
   "pygments_lexer": "ipython3",
   "version": "3.5.2"
  }
 },
 "nbformat": 4,
 "nbformat_minor": 0
}
