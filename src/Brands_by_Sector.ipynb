{
 "cells": [
  {
   "cell_type": "code",
   "execution_count": 1,
   "metadata": {
    "collapsed": false
   },
   "outputs": [],
   "source": [
    "brand_cat = []\n",
    "with open('data/sectors.txt') as data_file:\n",
    "        for row in data_file:\n",
    "            data = row.strip().split(',')\n",
    "            #print(data)\n",
    "            brand_cat.append((data[1].lower(),data[0].lower()))\n",
    "brand_cat = brand_cat[1:]"
   ]
  },
  {
   "cell_type": "code",
   "execution_count": 2,
   "metadata": {
    "collapsed": true
   },
   "outputs": [],
   "source": [
    "brand_names = []\n",
    "with open('data/brand_followers_corrected_full.tsv') as data_file:\n",
    "    for row in data_file:\n",
    "        data = row.strip().split()\n",
    "        brand_names.append(data[0].lower())\n",
    "brand_names.sort()"
   ]
  },
  {
   "cell_type": "code",
   "execution_count": 3,
   "metadata": {
    "collapsed": false
   },
   "outputs": [],
   "source": [
    "brands_sect = set([x[0] for x in brand_cat])\n",
    "brand_data = set(brand_names)    "
   ]
  },
  {
   "cell_type": "code",
   "execution_count": 4,
   "metadata": {
    "collapsed": false
   },
   "outputs": [],
   "source": [
    "brand_in_progress = []\n",
    "with open('data/correct_brand_names.txt') as data_file:\n",
    "        for row in data_file:\n",
    "            data = row.strip()\n",
    "            #print(data)\n",
    "            brand_in_progress.append(data)\n",
    "brand_in_progress = set(brand_in_progress)"
   ]
  },
  {
   "cell_type": "code",
   "execution_count": 8,
   "metadata": {
    "collapsed": true
   },
   "outputs": [],
   "source": [
    "exclude = set(['acne_free', 'acura_insider', 'airwickus', 'ancientminerals', 'bachflowerdfn', 'biothermusa','goldpeaktea'])"
   ]
  },
  {
   "cell_type": "code",
   "execution_count": 9,
   "metadata": {
    "collapsed": false
   },
   "outputs": [
    {
     "data": {
      "text/plain": [
       "81"
      ]
     },
     "execution_count": 9,
     "metadata": {},
     "output_type": "execute_result"
    }
   ],
   "source": [
    "len(brands_sect - brand_data - brand_in_progress - exclude)"
   ]
  },
  {
   "cell_type": "code",
   "execution_count": 10,
   "metadata": {
    "collapsed": false
   },
   "outputs": [
    {
     "name": "stdout",
     "output_type": "stream",
     "text": [
      "americanapparel\n",
      "cheezit\n",
      "chefboyardee\n",
      "chevrolet\n",
      "chexcereal\n",
      "chinaglaze\n",
      "chipsahoy\n",
      "chobani\n",
      "chrysler\n",
      "chuaochocoholic\n",
      "ciaobellagelato\n",
      "cisco\n",
      "claim_jumper\n",
      "clairolcolor\n",
      "clarisonic\n",
      "claussenpickles\n",
      "cleanandclear\n",
      "cleanwell\n",
      "clearasil\n",
      "clifbar\n",
      "clorox\n",
      "coastalscents\n",
      "cobigelowny\n",
      "cocacola\n",
      "coffee_mate\n",
      "coldeeze\n",
      "colgate\n",
      "colorescience\n",
      "combos\n",
      "conairbeauty\n",
      "coola_suncare\n",
      "corazonas\n",
      "cosmedix\n",
      "cosmermaid\n",
      "cottonelle\n",
      "covergirl\n",
      "crabtreeevelyn\n",
      "crackerbarrel\n",
      "crackerjackd\n",
      "cream_of_wheat\n",
      "cremeofnature\n",
      "crest\n",
      "croftersorganic\n",
      "crushfoods\n",
      "crystallight\n",
      "ctcsquares\n",
      "cuddleclones\n",
      "cuisinart\n",
      "curve\n",
      "customnails\n",
      "cvsbeautyclub\n",
      "cwhairlondon\n",
      "dacorkitchen\n",
      "daisyhealthrd\n",
      "danieleinc\n",
      "dannon\n",
      "dasaniwater\n",
      "davesgourmet\n",
      "davinesofficial\n",
      "dawndish\n",
      "ddfskincare\n",
      "deans_beans\n",
      "decleorskincare\n",
      "delallofoods\n",
      "deliskincare\n",
      "dell\n",
      "delmonte\n",
      "dentek\n",
      "derma_e\n",
      "dermadoctor\n",
      "dermalogica\n",
      "dermorganic\n",
      "devotedcreation\n",
      "dgskincare\n",
      "dial\n",
      "diapersdotcom\n",
      "dietcoke\n",
      "dietpepsi\n",
      "johnfriedaus\n",
      "naturespath\n",
      "thecoffeebean\n"
     ]
    }
   ],
   "source": [
    "for b in sorted(list(brands_sect - brand_data - brand_in_progress - exclude)):\n",
    "    print(b)"
   ]
  },
  {
   "cell_type": "code",
   "execution_count": 7,
   "metadata": {
    "collapsed": false
   },
   "outputs": [
    {
     "data": {
      "text/plain": [
       "set()"
      ]
     },
     "execution_count": 7,
     "metadata": {},
     "output_type": "execute_result"
    }
   ],
   "source": [
    "brand_data - brands_sect"
   ]
  },
  {
   "cell_type": "code",
   "execution_count": 50,
   "metadata": {
    "collapsed": false
   },
   "outputs": [
    {
     "name": "stdout",
     "output_type": "stream",
     "text": [
      "elapsed 0:00:00.070046\n"
     ]
    }
   ],
   "source": [
    "import numpy as np\n",
    "from datetime import datetime\n",
    "s = datetime.now()\n",
    "for i in range(8000):\n",
    "    x = np.arange(500)\n",
    "print('elapsed', datetime.now()-s)"
   ]
  },
  {
   "cell_type": "code",
   "execution_count": null,
   "metadata": {
    "collapsed": true
   },
   "outputs": [],
   "source": []
  },
  {
   "cell_type": "code",
   "execution_count": null,
   "metadata": {
    "collapsed": true
   },
   "outputs": [],
   "source": []
  }
 ],
 "metadata": {
  "anaconda-cloud": {},
  "kernelspec": {
   "display_name": "Python [ana35]",
   "language": "python",
   "name": "Python [ana35]"
  },
  "language_info": {
   "codemirror_mode": {
    "name": "ipython",
    "version": 3
   },
   "file_extension": ".py",
   "mimetype": "text/x-python",
   "name": "python",
   "nbconvert_exporter": "python",
   "pygments_lexer": "ipython3",
   "version": "3.5.2"
  }
 },
 "nbformat": 4,
 "nbformat_minor": 0
}
