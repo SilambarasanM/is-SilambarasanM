{
 "cells": [
  {
   "cell_type": "code",
   "execution_count": 1,
   "metadata": {
    "collapsed": true
   },
   "outputs": [],
   "source": [
    "from datetime import datetime\n",
    "from time import time\n",
    "from itertools import combinations\n",
    "import numpy as np\n",
    "from sklearn.cluster import AgglomerativeClustering\n",
    "from sklearn.cluster import SpectralClustering,spectral_clustering\n",
    "import scipy.cluster.hierarchy as sch\n",
    "import networkx as nx\n",
    "import matplotlib.pyplot as plt\n",
    "from sklearn import metrics\n",
    "%matplotlib inline"
   ]
  },
  {
   "cell_type": "code",
   "execution_count": 2,
   "metadata": {
    "collapsed": false
   },
   "outputs": [],
   "source": [
    "global brands_list\n",
    "global brand_followers\n",
    "global condnsd_dist_mat\n",
    "global dist_mat\n",
    "global Z\n",
    "global clusters\n",
    "global n_brands\n",
    "global n_clusters"
   ]
  },
  {
   "cell_type": "code",
   "execution_count": 3,
   "metadata": {
    "collapsed": true
   },
   "outputs": [],
   "source": [
    "#parameters\n",
    "n_brands = 100\n",
    "n_clusters = 8"
   ]
  },
  {
   "cell_type": "code",
   "execution_count": 4,
   "metadata": {
    "collapsed": true
   },
   "outputs": [],
   "source": [
    "def check_data_file():\n",
    "    import os.path\n",
    "    if os.path.exists('brand_followers.tsv'):\n",
    "        #fix brand followers - Do not run more than more\n",
    "        out_file = open(\"brand_followers_fixed.tsv\",\"w\")\n",
    "        with open('brand_followers.tsv','r') as data_file:\n",
    "            data = data_file.read()\n",
    "            data = data.replace('1114073faithhill','1114073\\nfaithhill')\n",
    "            out_file.write(data)\n",
    "        out_file.close()\n",
    "        os.remove('brand_followers.tsv')\n",
    "        return True\n",
    "    elif os.path.exists('brand_followers_fixed.tsv'):\n",
    "        return True\n",
    "    return False"
   ]
  },
  {
   "cell_type": "code",
   "execution_count": 5,
   "metadata": {
    "collapsed": true
   },
   "outputs": [],
   "source": [
    "def load_data(max_row_count=1404):\n",
    "    global brands_list\n",
    "    global brand_followers\n",
    "    global n_brands\n",
    "    \n",
    "    start = datetime.now()    \n",
    "    \n",
    "    brand_followers = {}\n",
    "    brands_list = []\n",
    "    \n",
    "    row_id = 0\n",
    "    skipped = 0\n",
    "    with open('brand_followers_fixed.tsv') as data_file:\n",
    "        for row in data_file:\n",
    "            row_id += 1\n",
    "            followers = row.split()\n",
    "            brand = followers.pop(0)\n",
    "            if len(followers) > 50:\n",
    "                brand_followers[brand] = set([int(x) for x in followers])\n",
    "                brands_list.append(brand)\n",
    "            else:\n",
    "                skipped +=1\n",
    "            if row_id % 500 == 0:\n",
    "                print( 'Loaded brand', row_id, '-', brand, 'with',len(followers),'followers.')\n",
    "            if row_id == max_row_count:\n",
    "                stop = datetime.now()\n",
    "                print('Loaded',max_row_count,', Skipped',skipped, 'rows in time',stop-start)\n",
    "                n_brands = max_row_count-skipped\n",
    "                break\n",
    "    return"
   ]
  },
  {
   "cell_type": "code",
   "execution_count": 6,
   "metadata": {
    "collapsed": true
   },
   "outputs": [],
   "source": [
    "def compute_distance_matrix():\n",
    "    global brands_list\n",
    "    global brand_followers\n",
    "    global condnsd_dist_mat\n",
    "    global dist_mat\n",
    "    global n_brands\n",
    "    \n",
    "    dist_mat = np.zeros((n_brands,n_brands))\n",
    "    start = datetime.now()\n",
    "    condnsd_dist_mat = []\n",
    "    edges = 0\n",
    "    for tuple_pair in combinations(enumerate(brands_list),2):\n",
    "        #tuple_pair = (b1_idx, b1_name)(b2_idx, b2_name)\n",
    "        b1 = brand_followers[tuple_pair[0][1]]\n",
    "        b2 = brand_followers[tuple_pair[1][1]]\n",
    "        \n",
    "        #Jaccard Similarity Measure\n",
    "        common_connections = len(b1.intersection(b2))\n",
    "        total_connections = len(b1) + len(b2) - common_connections #More efficient than set(b1).union(b2)\n",
    "        weight = common_connections/total_connections\n",
    "\n",
    "        #Condensed Distance Matrix\n",
    "        condnsd_dist_mat.append(1.0 - weight)\n",
    "        \n",
    "        #Symmetrix Distance Matrix\n",
    "        dist_mat[tuple_pair[0][0] , tuple_pair[1][0]] = dist_mat[tuple_pair[1][0] , tuple_pair[0][0]] = 1.0 - weight\n",
    "        \n",
    "        edges += 1\n",
    "        if edges%80000 == 0:\n",
    "            print(edges, 'edges loaded.')\n",
    "        \n",
    "    stop = datetime.now()\n",
    "    \n",
    "    print('Created',n_brands,'x',n_brands,'Distance Matrix in time',stop-start)\n",
    "    brand_followers = {}\n",
    "    return"
   ]
  },
  {
   "cell_type": "code",
   "execution_count": 7,
   "metadata": {
    "collapsed": true
   },
   "outputs": [],
   "source": [
    "def create_clusters():\n",
    "    global condnsd_dist_mat\n",
    "    global brands_list\n",
    "    global Z\n",
    "    global dist_mat\n",
    "    global n_clusters\n",
    "    \n",
    "    start = datetime.now()\n",
    "    \n",
    "    #Sample code for Agglomerative Clustering\n",
    "    clustering = AgglomerativeClustering(n_clusters=n_clusters, linkage='complete').fit(dist_mat)\n",
    "    print('Agglomerative Clustering')\n",
    "    get_clusters(clustering.labels_, visualize=True)\n",
    "    \n",
    "    print('Hierarchical Clustering')\n",
    "    for method in ['complete']: #['single', 'complete', 'average', 'weighted']:\n",
    "\n",
    "        print('Linkage Method:',method)\n",
    "        \n",
    "        Z = sch.linkage(condnsd_dist_mat, method=method)\n",
    "        \n",
    "        #Threshold = 0.99999999\n",
    "        labels = sch.fcluster(Z,0.99999999)\n",
    "        get_clusters(labels)\n",
    "        \n",
    "        plt.clf()\n",
    "        print('Num Clusters:',max(labels))\n",
    "        if n_brands > 1000:\n",
    "            fig = plt.figure(figsize=(100,100))\n",
    "        else:\n",
    "            fig = plt.figure()\n",
    "        dd = sch.dendrogram(Z, labels=brands_list,orientation='right')\n",
    "        plt.savefig('figures/{}.pdf'.format(method))\n",
    "        \n",
    "        print('Elapsed time',datetime.now()-start)\n",
    "        \n",
    "    stop = datetime.now()\n",
    "    print('Clustering completed in time',stop-start)\n",
    "    get_scores()"
   ]
  },
  {
   "cell_type": "code",
   "execution_count": 8,
   "metadata": {
    "collapsed": false
   },
   "outputs": [],
   "source": [
    "def get_clusters(cluster_labels, output='label', visualize=False, cluster_distribution=False):\n",
    "    global clusters\n",
    "    global n_brands\n",
    "    \n",
    "    clusters = {}\n",
    "    start = min(cluster_labels)\n",
    "    stop = max(cluster_labels)\n",
    "    \n",
    "    #Initialize\n",
    "    for i in range(start,stop+1):\n",
    "        clusters[i] = []    \n",
    "    \n",
    "    #Cluster Dictionary\n",
    "    for i in range(n_brands):\n",
    "        clusters[cluster_labels[i]].append(brands_list[i])\n",
    "    \n",
    "    #Printing desired output\n",
    "    if output=='label':\n",
    "        print('Printing by labels...')\n",
    "        for i in range(start,stop+1):\n",
    "            print (i,':',clusters[i])\n",
    "    elif output=='size':\n",
    "        print('Printing by size...')\n",
    "        for key in sorted(clusters, reverse=True, key=lambda k: len(clusters[k])):\n",
    "            print (len(clusters[key]),'(',key,'):',clusters[key])\n",
    "\n",
    "    #Visualize\n",
    "    if visualize:\n",
    "        visualize_cluster(cluster_labels)\n",
    "    \n",
    "    #Plot Cluster Size Distribution\n",
    "    if cluster_distribution:\n",
    "        plot_cluster_size()\n",
    "        \n",
    "    "
   ]
  },
  {
   "cell_type": "code",
   "execution_count": 21,
   "metadata": {
    "collapsed": false
   },
   "outputs": [],
   "source": [
    "def visualize_cluster(cluster_labels):\n",
    "    from sklearn.manifold import MDS\n",
    "    global dist_mat\n",
    "    global brands_list\n",
    "    global n_brands\n",
    "    \n",
    "    if min(cluster_labels) == 0:\n",
    "        num_clusters = max(cluster_labels) + 1\n",
    "    else:\n",
    "        num_clusters = max(cluster_labels)\n",
    "        \n",
    "\n",
    "    print('Num Clusters:',num_clusters)\n",
    "    \n",
    "    if n_brands > 1000:\n",
    "        fig = plt.figure(figsize=(100,100))\n",
    "    else:\n",
    "        fig = plt.figure()\n",
    "    fig, ax = plt.subplots(figsize=(15,15))\n",
    "    cmap = plt.get_cmap('jet')\n",
    "    colors = cmap(np.linspace(0, 1, num_clusters))\n",
    "    colors_map = []\n",
    "    for i in range(n_brands):\n",
    "        colors_map.append(colors[cluster_labels[i]])\n",
    "        \n",
    "        \n",
    "    mds = MDS(n_components=2, dissimilarity=\"precomputed\", random_state=1)\n",
    "    pos = mds.fit_transform(1-dist_mat)  # shape (n_components, n_samples)\n",
    "    \n",
    "    xs, ys = pos[:, 0], pos[:, 1]\n",
    "    \n",
    "    for i in range(n_brands):\n",
    "        ax.scatter(xs[i],ys[i],color=colors_map[i])\n",
    "        ax.text(xs[i],ys[i],brands_list[i])\n",
    "    plt.savefig('figures/{}.png'.format('Clusters'))"
   ]
  },
  {
   "cell_type": "code",
   "execution_count": 10,
   "metadata": {
    "collapsed": false
   },
   "outputs": [],
   "source": [
    "def plot_cluster_size():\n",
    "    global clusters\n",
    "    cluster_size_count = []\n",
    "    for cluster_id in clusters:\n",
    "        cluster_size_count.append(len(clusters[cluster_id]))\n",
    "    #print (cluster_size_count)\n",
    "    plt.hist(cluster_size_count, bins = range(max(cluster_size_count)+1))\n",
    "    plt.xlabel('Cluster Size')\n",
    "    plt.ylabel('Count')\n",
    "    plt.title('Cluster Size Distribution')\n",
    "    plt.savefig('figures/{}.png'.format('Cluster Size Distribution'))"
   ]
  },
  {
   "cell_type": "code",
   "execution_count": 11,
   "metadata": {
    "collapsed": false
   },
   "outputs": [],
   "source": [
    "def get_scores():\n",
    "    global dist_mat\n",
    "    global Z\n",
    "    fig = plt.figure()\n",
    "    print('Threshold, Silhoutte Score')\n",
    "    for i in range(60,100,5):\n",
    "        threshold = i/100.0\n",
    "        z = sch.fcluster(Z,threshold)\n",
    "        #print(z)\n",
    "        score = metrics.silhouette_score(np.asarray(dist_mat), z)\n",
    "        plt.scatter(threshold,score)\n",
    "        plt.plot(threshold,score, marker='o')\n",
    "        print(threshold,score)\n",
    "        #print ('Silhoutte Coefficient:',score)\n",
    "    plt.savefig('figures/{}.png'.format('Silhoutte Coefficient'))"
   ]
  },
  {
   "cell_type": "code",
   "execution_count": 12,
   "metadata": {
    "collapsed": true
   },
   "outputs": [],
   "source": [
    "def spectral_cluster(num_clusters):\n",
    "    global dist_mat\n",
    "    for eigen_solver in ['arpack']: #, 'lobpcg']:\n",
    "        for assign_labels in ['kmeans', 'discretize']:\n",
    "            print(eigen_solver,assign_labels)\n",
    "            model = SpectralClustering(n_clusters=num_clusters,\n",
    "                                       affinity='precomputed',\n",
    "                                       eigen_solver=eigen_solver,\n",
    "                                       assign_labels=assign_labels\n",
    "                                       ).fit(dist_mat)\n",
    "            labels = model.labels_\n",
    "            \n",
    "            get_clusters(labels)\n",
    "    labels = spectral_clustering(1-dist_mat, n_clusters=num_clusters,\n",
    "                                 eigen_solver=\"arpack\")\n",
    "    print(labels)\n",
    "    get_clusters(labels)"
   ]
  },
  {
   "cell_type": "code",
   "execution_count": 13,
   "metadata": {
    "collapsed": false
   },
   "outputs": [
    {
     "name": "stdout",
     "output_type": "stream",
     "text": [
      "Loaded 100 , Skipped 0 rows in time 0:00:06.517086\n",
      "Created 100 x 100 Distance Matrix in time 0:00:04.025647\n"
     ]
    }
   ],
   "source": [
    "if check_data_file():\n",
    "    load_data(n_brands)    \n",
    "    compute_distance_matrix()"
   ]
  },
  {
   "cell_type": "code",
   "execution_count": 22,
   "metadata": {
    "collapsed": false
   },
   "outputs": [
    {
     "name": "stdout",
     "output_type": "stream",
     "text": [
      "Agglomerative Clustering\n",
      "Printing by labels...\n",
      "0 : ['3mnews', '7daysinutopia', '7up', 'acer', 'acne_free_skin', 'act', 'acti_pr', 'activia', 'aidstillreqd', 'airheadscandy', 'airwickmexico', 'alecjones33', 'alissacohen', 'ambipurindia', 'amerapparelsale', 'andessn', 'angelicastiffy', 'aphroditegy', 'april_rain', 'aprioridiamonds', 'aquafina', 'arizonadot', 'asaideiralounge', 'asus', 'australiangold_', 'azzaro', 'babiesruscanada', 'babyblanketgift', 'bachremedies', 'bahlsenbiscuits', 'ballaformen', 'bambinomio', 'bar35', 'barilla', 'barq_photos', 'basic4veg']\n",
      "1 : ['abreva', 'allegraotc', 'alphahydrox', 'always', 'american_girl', 'ancientminerals', 'antimonkeybutt', 'artisanafoods', 'athenos', 'babobotanicals', 'baby_magic', 'babyganics']\n",
      "2 : ['5hourenergy', '8oclockcoffee', '8thcontinentsoy', 'acneorg', 'amanabrand', 'ampenergy', 'aquaphorus', 'balancebar', 'bananaboat', 'barbarasbakery', 'barbasolshave', 'barkeeperfriend', 'barsfoods']\n",
      "3 : ['20thcenturyfox', 'adidas', 'armani', 'att', 'audreywhitby', 'axe']\n",
      "4 : ['100percentpure', 'acureorganics', 'afterglow', 'alaffiaskincare', 'alchimieforever', 'alimapure', 'alternahaircare', 'arcona_la', 'aubreyorganicsi', 'auracacia', 'aveneusa', 'barielle']\n",
      "5 : ['allure_magazine', 'anntaylor', 'anthropologie', 'arbonne', 'ardell_lashes', 'artistrybeauty', 'aveda', 'avoninsider', 'bareminerals']\n",
      "6 : ['18rabbits', '34degrees', 'allegrocoffee', 'alvaradostreet', 'ancientharvest', 'anniesceo', 'annieshomegrown', 'bakeryonmain']\n",
      "7 : ['acura_insider', 'astonmartin', 'audi', 'audi_online']\n",
      "Num Clusters: 8\n",
      "Hierarchical Clustering\n",
      "Linkage Method: complete\n",
      "Printing by labels...\n",
      "1 : ['alissacohen', 'bachremedies', 'basic4veg']\n",
      "2 : ['acneorg', 'barbasolshave']\n",
      "3 : ['balancebar', 'barbarasbakery']\n",
      "4 : ['amanabrand', 'aquaphorus', 'bananaboat', 'barkeeperfriend']\n",
      "5 : ['8oclockcoffee']\n",
      "6 : ['8thcontinentsoy', 'barsfoods']\n",
      "7 : ['always']\n",
      "8 : ['american_girl']\n",
      "9 : ['3mnews', '5hourenergy', '7up', 'airheadscandy', 'airwickmexico', 'ampenergy', 'aquafina', 'arizonadot', 'att', 'audreywhitby', 'axe', 'barq_photos']\n",
      "10 : ['acer', 'ambipurindia', 'asus']\n",
      "11 : ['acura_insider', 'astonmartin', 'audi', 'audi_online']\n",
      "12 : ['20thcenturyfox', 'adidas', 'armani']\n",
      "13 : ['barilla']\n",
      "14 : ['allure_magazine', 'anntaylor', 'anthropologie', 'arbonne', 'ardell_lashes', 'artistrybeauty', 'aveda', 'avoninsider', 'bareminerals']\n",
      "15 : ['alchimieforever', 'alternahaircare', 'aveneusa', 'barielle']\n",
      "16 : ['100percentpure', 'acureorganics', 'afterglow', 'alimapure', 'arcona_la']\n",
      "17 : ['australiangold_']\n",
      "18 : ['april_rain', 'babyblanketgift', 'bar35']\n",
      "19 : ['bahlsenbiscuits', 'bambinomio']\n",
      "20 : ['acne_free_skin', 'aidstillreqd', 'alecjones33', 'aprioridiamonds', 'ballaformen']\n",
      "21 : ['18rabbits', '34degrees', 'allegrocoffee', 'alvaradostreet', 'anniesceo', 'annieshomegrown']\n",
      "22 : ['alaffiaskincare', 'ancientharvest', 'artisanafoods', 'aubreyorganicsi', 'auracacia', 'bakeryonmain']\n",
      "23 : ['abreva', 'activia', 'allegraotc', 'alphahydrox', 'ancientminerals', 'antimonkeybutt', 'athenos', 'babobotanicals', 'baby_magic', 'babyganics']\n",
      "24 : ['azzaro', 'babiesruscanada']\n",
      "25 : ['andessn', 'asaideiralounge']\n",
      "26 : ['acti_pr', 'angelicastiffy']\n",
      "27 : ['7daysinutopia', 'act', 'amerapparelsale']\n",
      "28 : ['aphroditegy']\n",
      "Num Clusters: 28\n",
      "Elapsed time 0:00:03.702018\n",
      "Clustering completed in time 0:00:03.703018\n",
      "Threshold, Silhoutte Score\n",
      "0.6 0.428695988146\n",
      "0.65 0.427287093212\n",
      "0.7 0.427287093212\n",
      "0.75 0.107520992141\n",
      "0.8 0.0972739435967\n",
      "0.85 0.0972739435967\n",
      "0.9 0.0972739435967\n",
      "0.95 0.0669017565687\n"
     ]
    },
    {
     "data": {
      "text/plain": [
       "<matplotlib.figure.Figure at 0xea812eb7f0>"
      ]
     },
     "metadata": {},
     "output_type": "display_data"
    },
    {
     "data": {
      "text/plain": [
       "<matplotlib.figure.Figure at 0xea812ebf60>"
      ]
     },
     "metadata": {},
     "output_type": "display_data"
    },
    {
     "data": {
      "image/png": "[encoded data removed]",
      "text/plain": [
       "<matplotlib.figure.Figure at 0xea810b0668>"
      ]
     },
     "metadata": {},
     "output_type": "display_data"
    },
    {
     "data": {
      "image/png": "[encoded data removed]",
      "text/plain": [
       "<matplotlib.figure.Figure at 0xea81092eb8>"
      ]
     },
     "metadata": {},
     "output_type": "display_data"
    }
   ],
   "source": [
    "create_clusters()    "
   ]
  },
  {
   "cell_type": "code",
   "execution_count": null,
   "metadata": {
    "collapsed": false
   },
   "outputs": [],
   "source": [
    "#get_scores() #Only for Hierarchical"
   ]
  },
  {
   "cell_type": "code",
   "execution_count": null,
   "metadata": {
    "collapsed": false
   },
   "outputs": [],
   "source": [
    "spectral_cluster(n_clusters)"
   ]
  },
  {
   "cell_type": "code",
   "execution_count": null,
   "metadata": {
    "collapsed": true
   },
   "outputs": [],
   "source": []
  }
 ],
 "metadata": {
  "anaconda-cloud": {},
  "kernelspec": {
   "display_name": "Python [ana35]",
   "language": "python",
   "name": "Python [ana35]"
  },
  "language_info": {
   "codemirror_mode": {
    "name": "ipython",
    "version": 3
   },
   "file_extension": ".py",
   "mimetype": "text/x-python",
   "name": "python",
   "nbconvert_exporter": "python",
   "pygments_lexer": "ipython3",
   "version": "3.5.2"
  }
 },
 "nbformat": 4,
 "nbformat_minor": 0
}
