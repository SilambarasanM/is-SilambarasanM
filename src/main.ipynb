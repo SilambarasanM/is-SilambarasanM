{
 "cells": [
  {
   "cell_type": "markdown",
   "metadata": {},
   "source": [
    "# Clustering Brands"
   ]
  },
  {
   "cell_type": "markdown",
   "metadata": {},
   "source": [
    "### Imports"
   ]
  },
  {
   "cell_type": "code",
   "execution_count": 1,
   "metadata": {
    "collapsed": true
   },
   "outputs": [],
   "source": [
    "from datetime import datetime\n",
    "import random\n",
    "from itertools import combinations\n",
    "import numpy as np\n",
    "from sklearn.cluster import AgglomerativeClustering\n",
    "import scipy.cluster.hierarchy as sch\n",
    "from sklearn.cluster import SpectralClustering\n",
    "import networkx as nx\n",
    "import matplotlib.pyplot as plt\n",
    "from sklearn import metrics\n",
    "%matplotlib inline"
   ]
  },
  {
   "cell_type": "markdown",
   "metadata": {},
   "source": [
    "### Global Variables"
   ]
  },
  {
   "cell_type": "code",
   "execution_count": 2,
   "metadata": {
    "collapsed": false
   },
   "outputs": [],
   "source": [
    "global BRANDS_LIST              #List of Brand Names\n",
    "global BRAND_FOLLOWERS          #Dictionary[Brand] =  [Brand Followers]\n",
    "global C_DIST_MAT               #Condensed Distance Matrix \n",
    "global DIST_MAT                 #Distance Matrix\n",
    "global Z\n",
    "global CLUSTERS                 #Dictionary of Clusters\n",
    "global N_BRANDS                 #Number of Brands\n",
    "global N_CLUSTERS               #Number of Clusters"
   ]
  },
  {
   "cell_type": "markdown",
   "metadata": {},
   "source": [
    "### Parameters"
   ]
  },
  {
   "cell_type": "code",
   "execution_count": 3,
   "metadata": {
    "collapsed": true
   },
   "outputs": [],
   "source": [
    "MAX_ROWS = 1404    #Maximum number of lines in file\n",
    "N_BRANDS = 250     #Number of Brands\n",
    "N_CLUSTERS = 8     #Number of Clusters"
   ]
  },
  {
   "cell_type": "markdown",
   "metadata": {},
   "source": [
    "### Quickfix for preparing data"
   ]
  },
  {
   "cell_type": "code",
   "execution_count": 4,
   "metadata": {
    "collapsed": true
   },
   "outputs": [],
   "source": [
    "def check_data_file():\n",
    "    import os.path\n",
    "    if os.path.exists('brand_followers.tsv'):     # Do not run this more than more\n",
    "        out_file = open(\"brand_followers_fixed.tsv\",\"w\")\n",
    "        with open('brand_followers.tsv','r') as data_file:\n",
    "            data = data_file.read()\n",
    "            data = data.replace('1114073faithhill','1114073\\nfaithhill')\n",
    "            out_file.write(data)\n",
    "        out_file.close()\n",
    "        os.remove('brand_followers.tsv')\n",
    "        return True\n",
    "    elif os.path.exists('brand_followers_fixed.tsv'):\n",
    "        #out_file = open(\"brand_followers_fixed.tsv\",\"w\")\n",
    "        #with open('brand_followers_final.tsv','r') as data_file:\n",
    "            #data = data_file.read()\n",
    "            #followers = data.split()\n",
    "            #if len(followers) > 50:\n",
    "                #out_file.write(data)\n",
    "        #out_file.close()\n",
    "        #os.remove('brand_followers_final.tsv')\n",
    "        return True\n",
    "    elif os.path.exists('brand_followers_final.tsv'):\n",
    "        return True\n",
    "    return False"
   ]
  },
  {
   "cell_type": "code",
   "execution_count": 5,
   "metadata": {
    "collapsed": false
   },
   "outputs": [
    {
     "name": "stdout",
     "output_type": "stream",
     "text": [
      "Data file is ready for use.\n"
     ]
    }
   ],
   "source": [
    "if check_data_file():\n",
    "    print('Data file is ready for use.')\n",
    "else:\n",
    "    print('Oops! Something went wrong here. Data file is not ready.')"
   ]
  },
  {
   "cell_type": "markdown",
   "metadata": {},
   "source": [
    "### Load required data to memory"
   ]
  },
  {
   "cell_type": "code",
   "execution_count": 6,
   "metadata": {
    "collapsed": false
   },
   "outputs": [],
   "source": [
    "def load_data(number_of_brands_to_load=MAX_ROWS, verbose=False):\n",
    "    global BRANDS_LIST\n",
    "    global BRAND_FOLLOWERS\n",
    "    global N_BRANDS\n",
    "    global G\n",
    "    \n",
    "    \n",
    "    start = datetime.now()    \n",
    "    BRAND_FOLLOWERS = {}\n",
    "    BRANDS_LIST = []\n",
    "    G = nx.Graph()\n",
    "        \n",
    "    # Selecting random brands to load\n",
    "    if number_of_brands_to_load!= MAX_ROWS:\n",
    "        choices = random.sample(range(1,MAX_ROWS), number_of_brands_to_load)\n",
    "        max_row_id = max(choices)\n",
    "    else:\n",
    "        choices = xrange(1,MAX_ROWS)\n",
    "        max_row_id = MAX_ROWS\n",
    "        \n",
    "    row_id = 0  #Line number\n",
    "    skipped = 0 #to track number of lines skip\n",
    "    \n",
    "    with open('brand_followers_final.tsv') as data_file:\n",
    "        for row in data_file:\n",
    "            row_id += 1\n",
    "            if row_id in choices: #Randomly selecting brands\n",
    "                followers = row.split()\n",
    "                brand = followers.pop(0)\n",
    "                if len(followers) > 50:  #Filtering brands with less than 50 followers\n",
    "                    BRAND_FOLLOWERS[brand] = set([int(x) for x in followers])\n",
    "                    BRANDS_LIST.append(brand)\n",
    "                    G.add_node(brand)\n",
    "                    if verbose:\n",
    "                        print('Added',brand,'- Followers:',len(followers))\n",
    "                else:\n",
    "                    skipped +=1\n",
    "                    if verbose:\n",
    "                        print('Skipped',brand,'- Followers:',len(followers))\n",
    "                \n",
    "                if row_id == MAX_ROWS or row_id==max_row_id:\n",
    "                    stop = datetime.now()\n",
    "                    N_BRANDS = number_of_brands_to_load - skipped\n",
    "                    print('Loaded',N_BRANDS, 'rows in time',stop-start)\n",
    "                    break\n",
    "    return"
   ]
  },
  {
   "cell_type": "code",
   "execution_count": 7,
   "metadata": {
    "collapsed": false
   },
   "outputs": [
    {
     "name": "stdout",
     "output_type": "stream",
     "text": [
      "Added 34degrees - Followers: 1773\n",
      "Added acne_free_skin - Followers: 2090\n",
      "Added act - Followers: 5028\n",
      "Added acti_pr - Followers: 3315\n",
      "Added acura_insider - Followers: 57961\n",
      "Added acureorganics - Followers: 3304\n",
      "Added alaffiaskincare - Followers: 1133\n",
      "Added allure_magazine - Followers: 269437\n",
      "Added always - Followers: 4241\n",
      "Added amanabrand - Followers: 9472\n",
      "Added american_girl - Followers: 5910\n",
      "Added angelicastiffy - Followers: 1465\n",
      "Added anntaylor - Followers: 60117\n",
      "Added anthropologie - Followers: 467286\n",
      "Added aphroditegy - Followers: 3618\n",
      "Added aquafina - Followers: 1724\n",
      "Added artistrybeauty - Followers: 44269\n",
      "Added astonmartin - Followers: 280585\n",
      "Added att - Followers: 491760\n",
      "Added avoninsider - Followers: 75358\n",
      "Added babyganics - Followers: 3880\n",
      "Added bar35 - Followers: 3307\n",
      "Added barbasolshave - Followers: 1683\n",
      "Added bayer - Followers: 38273\n",
      "Added beauticontrol - Followers: 3381\n",
      "Added benandjerrys - Followers: 223389\n",
      "Added bertolli - Followers: 12396\n",
      "Added bestfoods - Followers: 1977\n",
      "Added bgcf - Followers: 1426\n",
      "Added bhcosmetics - Followers: 50963\n",
      "Added bigelowtea - Followers: 15197\n",
      "Added blue_bunny - Followers: 31086\n",
      "Added bobatl - Followers: 500001\n",
      "Added bodyimage - Followers: 3262\n",
      "Added bose - Followers: 95409\n",
      "Added braun - Followers: 2999\n",
      "Added candiesbrand - Followers: 47820\n",
      "Added caneandaustin - Followers: 1121\n",
      "Added canidaepetfood - Followers: 2578\n",
      "Added caribou_coffee - Followers: 66765\n",
      "Added caswellmassey - Followers: 1797\n",
      "Added celestialtea - Followers: 12410\n",
      "Added chanel - Followers: 500001\n",
      "Added chexcereal - Followers: 2913\n",
      "Added cleanandclear - Followers: 37200\n",
      "Added clinique_us - Followers: 164736\n",
      "Added cobigelowny - Followers: 1479\n",
      "Added cocacolaco - Followers: 211713\n",
      "Added coldeeze - Followers: 3814\n",
      "Added colgate - Followers: 9511\n",
      "Added countrychoice_ - Followers: 3762\n",
      "Added cvsbeautyclub - Followers: 63927\n",
      "Added cwhairlondon - Followers: 7241\n",
      "Added dannon - Followers: 19868\n",
      "Added ddfskincare - Followers: 2325\n",
      "Added delallofoods - Followers: 3794\n",
      "Added dell - Followers: 332391\n",
      "Added delmonte - Followers: 13552\n",
      "Added dentek - Followers: 3342\n",
      "Added dietcoke - Followers: 279651\n",
      "Added dietpepsi - Followers: 81377\n",
      "Added digiornopizza - Followers: 69404\n",
      "Added dimpleskins - Followers: 1671\n",
      "Added discover - Followers: 59448\n",
      "Added dolefoods - Followers: 40815\n",
      "Added dove - Followers: 117153\n",
      "Added dpolaner - Followers: 2297\n",
      "Added drinkcheerwine - Followers: 4718\n",
      "Added drpepper - Followers: 261287\n",
      "Added drpraegers - Followers: 1915\n",
      "Added eckrichmeats - Followers: 9283\n",
      "Added ecotouchuk - Followers: 2167\n",
      "Added edenfoods - Followers: 8934\n",
      "Added elfcosmeticsuk - Followers: 26635\n",
      "Added ellentracyny - Followers: 1022\n",
      "Added empirekosher - Followers: 1027\n",
      "Added essentiaphwater - Followers: 15306\n",
      "Added eucerinus - Followers: 43441\n",
      "Added eukanuba - Followers: 10845\n",
      "Added evianwater - Followers: 15452\n",
      "Added fagorindustrial - Followers: 3862\n",
      "Added fancyfeast - Followers: 8174\n",
      "Added fantafun - Followers: 22518\n",
      "Added farmland - Followers: 13743\n",
      "Added farmrichsnacks - Followers: 5464\n",
      "Added ferragamo - Followers: 141976\n",
      "Added fisherpaykel - Followers: 3643\n",
      "Added fisherprice - Followers: 10533\n",
      "Added flatoutbread - Followers: 5533\n",
      "Added foodsalive - Followers: 3023\n",
      "Added fosterfarms - Followers: 1028\n",
      "Added fusion_beauty - Followers: 9696\n",
      "Added ge_reports - Followers: 27458\n",
      "Added generalmills - Followers: 21593\n",
      "Added glutenfreeda - Followers: 8364\n",
      "Added greenheritage - Followers: 1118\n",
      "Added greenworks - Followers: 3304\n",
      "Added groominglounge - Followers: 8228\n",
      "Added harneytea - Followers: 6768\n",
      "Added hboats - Followers: 3175\n",
      "Added hillshirefarm - Followers: 4706\n",
      "Added hinoderice - Followers: 2169\n",
      "Added homefreetreats - Followers: 1605\n",
      "Added hotpointuk - Followers: 8991\n",
      "Added hugoboss - Followers: 247895\n",
      "Added humboldtchp - Followers: 1051\n",
      "Added hydroxatone - Followers: 2442\n",
      "Added hyundai - Followers: 139515\n",
      "Added iansnaturalfood - Followers: 2577\n",
      "Added indigowild - Followers: 5225\n",
      "Added isseymiyakenyc - Followers: 3708\n",
      "Added ivory - Followers: 7766\n",
      "Added izze - Followers: 23703\n",
      "Added jennairusa - Followers: 4651\n",
      "Added jessicasimpson - Followers: 500001\n",
      "Added johnnyssaloon - Followers: 2760\n",
      "Added jouercosmetics - Followers: 7499\n",
      "Added juanitascocina - Followers: 5345\n",
      "Added kallarichoc - Followers: 1815\n",
      "Added kaplanmd - Followers: 2627\n",
      "Added klipschaudio - Followers: 22731\n",
      "Added kotex - Followers: 9150\n",
      "Skipped ksisolarnews - Followers: 5\n",
      "Added kushiesbaby - Followers: 4978\n",
      "Added ladivafashions - Followers: 2058\n",
      "Added lamborghini - Followers: 491208\n",
      "Added lansinohusa - Followers: 7460\n",
      "Added lexus - Followers: 460080\n",
      "Added lgus - Followers: 72321\n",
      "Added lifecellaus - Followers: 6068\n",
      "Added lifeextension - Followers: 75769\n",
      "Added lifeway - Followers: 19572\n",
      "Added littleduckorg - Followers: 3245\n",
      "Added livingproof - Followers: 5486\n",
      "Added luckycharms - Followers: 2562\n",
      "Added lumeneus - Followers: 1825\n",
      "Added lunabar - Followers: 35374\n",
      "Added macadamiahair - Followers: 4150\n",
      "Added macrumors - Followers: 500001\n",
      "Added magno - Followers: 3012\n",
      "Added makeyourbedlam - Followers: 2871\n",
      "Added maltomealcereal - Followers: 3939\n",
      "Added manentailbeauty - Followers: 15152\n",
      "Added manicpanicnyc - Followers: 6069\n",
      "Added marsglobal - Followers: 6208\n",
      "Added maytagbrand - Followers: 4903\n",
      "Added medline - Followers: 2539\n",
      "Added mercedesbenz - Followers: 480215\n",
      "Added metalexuk - Followers: 2025\n",
      "Added michaelkors - Followers: 500001\n",
      "Added mixedchicks - Followers: 8968\n",
      "Added morningstrfarms - Followers: 5969\n",
      "Added motts - Followers: 29723\n",
      "Added mrsbutterworths - Followers: 3875\n",
      "Added mtn_dew - Followers: 351117\n",
      "Added munchies - Followers: 12418\n",
      "Added nakedjuice - Followers: 51164\n",
      "Added natfreshdeocrys - Followers: 8615\n",
      "Added naturemade - Followers: 1756\n",
      "Added natures_pride - Followers: 3778\n",
      "Added naturespath - Followers: 30140\n",
      "Added nautica - Followers: 101345\n",
      "Added ncsmartstart - Followers: 1300\n",
      "Added neatfeat_ph - Followers: 1079\n",
      "Added nestleusa - Followers: 32540\n",
      "Added nokia - Followers: 500001\n",
      "Added nostalgiaelctrx - Followers: 3057\n",
      "Added odwalla - Followers: 7844\n",
      "Added officialccduo - Followers: 19767\n",
      "Added ohjazzy - Followers: 6440\n",
      "Added oldspice - Followers: 221742\n",
      "Added onkyo - Followers: 3129\n",
      "Added oomphband - Followers: 12776\n",
      "Added oopsydaisyart - Followers: 1288\n",
      "Added organicbabywear - Followers: 1355\n",
      "Added orioncaraudio - Followers: 3057\n",
      "Added oroweatve - Followers: 1328\n",
      "Added pangeaorganics - Followers: 5556\n",
      "Added parents_choice - Followers: 1132\n",
      "Added peeledsnacks - Followers: 3949\n",
      "Added pepto - Followers: 5582\n",
      "Added pfchangsheaven - Followers: 1569\n",
      "Added premierdeadsea_ - Followers: 2021\n",
      "Added preschoice - Followers: 11269\n",
      "Added pro10uk - Followers: 19693\n",
      "Added purex - Followers: 85283\n",
      "Added realcaboodles - Followers: 2854\n",
      "Added realjaclynsmith - Followers: 25610\n",
      "Added reallorraine - Followers: 479864\n",
      "Added reallunchables - Followers: 3705\n",
      "Added realpurity - Followers: 1754\n",
      "Added redbull - Followers: 500001\n",
      "Added redcross - Followers: 500001\n",
      "Added renefurtererus - Followers: 1079\n",
      "Added resolveusa - Followers: 2546\n",
      "Added revivogenpro - Followers: 2008\n",
      "Added rightfoods - Followers: 1115\n",
      "Added rimmellondonuk - Followers: 72159\n",
      "Added rococochocs - Followers: 7064\n",
      "Added roman_meal - Followers: 3800\n",
      "Added ruffles_oficial - Followers: 18669\n",
      "Added salerm_es - Followers: 2772\n",
      "Added samparparis - Followers: 1688\n",
      "Added samsung - Followers: 500001\n",
      "Added scharglutenfree - Followers: 5258\n",
      "Added schickhydro - Followers: 4005\n",
      "Added seagramsginusa - Followers: 1440\n",
      "Added shiseido_uk - Followers: 2850\n",
      "Added sircuitskin - Followers: 1132\n",
      "Added skinauthority - Followers: 2691\n",
      "Added skinceuticals - Followers: 10714\n",
      "Added skinmedica - Followers: 8932\n",
      "Added slimfastuk - Followers: 6427\n",
      "Added smarties - Followers: 10157\n",
      "Added smashbox - Followers: 209222\n",
      "Added smuckers - Followers: 10496\n",
      "Added sofnfree - Followers: 1228\n",
      "Added specialkus - Followers: 13989\n",
      "Added sprayway_uk - Followers: 1664\n",
      "Added stephenrcovey - Followers: 500001\n",
      "Added stopandshop - Followers: 5367\n",
      "Added summit - Followers: 8712\n",
      "Added swakdesigns - Followers: 5896\n",
      "Added swiffer - Followers: 23773\n",
      "Added tazo - Followers: 7005\n",
      "Skipped teammuscletech - Followers: 25\n",
      "Added temptu - Followers: 14959\n",
      "Added thecolorwrkshop - Followers: 2510\n",
      "Added thegreekgods - Followers: 1933\n",
      "Added thermador - Followers: 6255\n",
      "Added thirstiesinc - Followers: 13014\n",
      "Added thisisgmc - Followers: 128759\n",
      "Added toblerone - Followers: 9828\n",
      "Added toshibausa - Followers: 80560\n",
      "Added turkeyhillmm - Followers: 1117\n",
      "Added twbrasiloficial - Followers: 8279\n",
      "Added ubykotex - Followers: 7557\n",
      "Added verizon - Followers: 199332\n",
      "Added versace - Followers: 500001\n",
      "Added vidalsassoon - Followers: 30252\n",
      "Added vssassoon - Followers: 1777\n",
      "Added vw - Followers: 261424\n",
      "Added walgreens - Followers: 500001\n",
      "Added wearefullcircle - Followers: 1217\n",
      "Added wetnwildbeauty - Followers: 77887\n",
      "Added whiskasbr - Followers: 1503\n",
      "Added wolffsbiergartn - Followers: 1482\n",
      "Added wooliteus - Followers: 10162\n",
      "Added yorkchocfest - Followers: 1763\n",
      "Added ysl - Followers: 500001\n",
      "Loaded 248 rows in time 0:00:33.020773\n"
     ]
    }
   ],
   "source": [
    "load_data(N_BRANDS, verbose=True)"
   ]
  },
  {
   "cell_type": "markdown",
   "metadata": {},
   "source": [
    "### Computes the Distance Matrix"
   ]
  },
  {
   "cell_type": "code",
   "execution_count": 8,
   "metadata": {
    "collapsed": true
   },
   "outputs": [],
   "source": [
    "def compute_distance_matrix():\n",
    "    global BRANDS_LIST\n",
    "    global BRAND_FOLLOWERS\n",
    "    global C_DIST_MAT\n",
    "    global DIST_MAT\n",
    "    global N_BRANDS\n",
    "    global G\n",
    "    \n",
    "    start = datetime.now()\n",
    "    DIST_MAT = np.zeros((N_BRANDS,N_BRANDS))\n",
    "    C_DIST_MAT = []\n",
    "    \n",
    "    edges = 0\n",
    "    \n",
    "    for tuple_pair in combinations(enumerate(BRANDS_LIST),2):\n",
    "        #tuple_pair = (b1_idx, b1_name)(b2_idx, b2_name)\n",
    "        b1 = BRAND_FOLLOWERS[tuple_pair[0][1]]\n",
    "        b2 = BRAND_FOLLOWERS[tuple_pair[1][1]]\n",
    "        \n",
    "        #Jaccard Similarity Measure\n",
    "        common_connections = len(b1.intersection(b2))\n",
    "        total_connections = len(b1) + len(b2) - common_connections #More efficient than set(b1).union(b2)\n",
    "        weight = common_connections/total_connections\n",
    "\n",
    "        #Condensed Distance Matrix\n",
    "        C_DIST_MAT.append(1.0 - weight)\n",
    "        \n",
    "        #Symmetrix Distance Matrix\n",
    "        DIST_MAT[tuple_pair[0][0] , tuple_pair[1][0]] = DIST_MAT[tuple_pair[1][0] , tuple_pair[0][0]] = 1.0 - weight\n",
    "        \n",
    "        #Graph\n",
    "        if weight != 0.0:\n",
    "            G.add_edge(tuple_pair[0][1],tuple_pair[1][1], weight = weight)\n",
    "        \n",
    "        edges += 1\n",
    "        if edges%80000 == 0:\n",
    "            print(edges, 'edges loaded.')\n",
    "        \n",
    "    stop = datetime.now()\n",
    "    \n",
    "    print('Created',N_BRANDS * (N_BRANDS-1),'Condensed Distance Matrix')\n",
    "    print('Created',N_BRANDS,'x',N_BRANDS,'Distance Matrix')\n",
    "    print('Created Graph of',G.number_of_nodes(),'nodes with',G.number_of_edges(),'edges')\n",
    "    \n",
    "    print('Elapsed Time',stop-start)\n",
    "    \n",
    "    #Freeing Memory - No point in heavy lifting after this point for the current implementation\n",
    "    BRAND_FOLLOWERS = {}\n",
    "    \n",
    "    return"
   ]
  },
  {
   "cell_type": "code",
   "execution_count": 9,
   "metadata": {
    "collapsed": false
   },
   "outputs": [
    {
     "name": "stdout",
     "output_type": "stream",
     "text": [
      "Created 61256 Condensed Distance Matrix\n",
      "Created 248 x 248 Distance Matrix\n",
      "Created Graph of 248 nodes with 27045 edges\n",
      "Elapsed Time 0:00:38.599953\n"
     ]
    }
   ],
   "source": [
    "compute_distance_matrix()"
   ]
  },
  {
   "cell_type": "markdown",
   "metadata": {},
   "source": [
    "### Clusters the given brands based on different Clustering Algorithms"
   ]
  },
  {
   "cell_type": "code",
   "execution_count": 10,
   "metadata": {
    "collapsed": true
   },
   "outputs": [],
   "source": [
    "def cluster_brands(method, num_clusters=N_CLUSTERS, linkage='complete', **kwargs):\n",
    "    global C_DIST_MAT\n",
    "    global BRANDS_LIST\n",
    "    global Z\n",
    "    global DIST_MAT\n",
    "    global N_CLUSTERS\n",
    "    global G\n",
    "    \n",
    "    #linkage = ['single', 'complete', 'average', 'weighted']\n",
    "    \n",
    "    start = datetime.now()\n",
    "    \n",
    "    if method =='Agglomerative':\n",
    "        print('Clustering Algorithm: Agglomerative (complete)')\n",
    "        clustering = AgglomerativeClustering(n_clusters=num_clusters, linkage=linkage).fit(DIST_MAT)\n",
    "        labels = clustering.labels_\n",
    "        get_clusters(clustering.labels_, kwargs['print_clusters'], kwargs['print_cluster_size'])\n",
    "        \n",
    "    elif method =='Hierarchical':\n",
    "        print('Clustering Algorithm: Hierarchical (complete)')\n",
    "        Z = sch.linkage(C_DIST_MAT, method=linkage)\n",
    "        labels = sch.fcluster(Z,kwargs['threshold'])  #threshold = 0.99999999\n",
    "        get_clusters(labels, kwargs['print_clusters'], kwargs['print_cluster_size'])\n",
    "        \n",
    "        if kwargs['print_dendrogram']:\n",
    "            #plt.clf()\n",
    "            if N_BRANDS > 1000:\n",
    "                fig = plt.figure(figsize=(100,100))\n",
    "            else:\n",
    "                fig = plt.figure()\n",
    "            dd = sch.dendrogram(Z, labels=BRANDS_LIST,orientation='right')\n",
    "            plt.savefig('figures/{}.png'.format(method))\n",
    "        \n",
    "    elif method == 'Spectral':\n",
    "        print('Clustering Algorithm: Spectral (arpack,kmeans)')\n",
    "        clustering = SpectralClustering(n_clusters=num_clusters, affinity='precomputed',\n",
    "                                       eigen_solver='arpack', assign_labels='kmeans').fit(DIST_MAT)\n",
    "        labels = clustering.labels_\n",
    "        get_clusters(clustering.labels_, kwargs['print_clusters'], kwargs['print_cluster_size'])\n",
    "    elif method == 'Girvan-Newman':\n",
    "        print('Clustering Algorithm: Girvan-Newman')\n",
    "        def most_central_edge(G):\n",
    "            centrality = nx.edge_betweenness_centrality(G, weight='weight')\n",
    "            return max(centrality, key=centrality.get)\n",
    "        \n",
    "        comp = nx.algorithms.community.girvan_newman(G, most_valuable_edge=most_central_edge)\n",
    "        print('Clusters')\n",
    "        for c in next(comp):\n",
    "            print(c)\n",
    "\n",
    "    stop = datetime.now()\n",
    "    print('Clustering Completed in time',stop-start)\n",
    "    \n",
    "    return labels"
   ]
  },
  {
   "cell_type": "markdown",
   "metadata": {},
   "source": [
    "### To generate the Cluster Dictionary and to display it"
   ]
  },
  {
   "cell_type": "code",
   "execution_count": 11,
   "metadata": {
    "collapsed": false
   },
   "outputs": [],
   "source": [
    "def get_clusters(cluster_labels, output, cluster_distribution=False, plot_in_2d=False):\n",
    "    global CLUSTERS\n",
    "    global N_BRANDS\n",
    "    global BRANDS_LIST\n",
    "    \n",
    "    CLUSTERS = {}\n",
    "    start = min(cluster_labels)\n",
    "    stop = max(cluster_labels)\n",
    "    \n",
    "    #Initialize\n",
    "    for i in range(start,stop+1):\n",
    "        CLUSTERS[i] = []    \n",
    "    \n",
    "    #Cluster Dictionary\n",
    "    for i in range(N_BRANDS):\n",
    "        CLUSTERS[cluster_labels[i]].append(BRANDS_LIST[i])\n",
    "    \n",
    "    #Printing desired output\n",
    "    if output=='LABEL':\n",
    "        print('Displaying Clusters by labels...')\n",
    "        for i in range(start,stop+1):\n",
    "            print (i,':',CLUSTERS[i])\n",
    "            \n",
    "    elif output=='SIZE':\n",
    "        print('Displaying Clusters by size...')\n",
    "        for key in sorted(CLUSTERS, reverse=True, key=lambda k: len(CLUSTERS[k])):\n",
    "            print (len(CLUSTERS[key]),'(',key,'):',CLUSTERS[key])\n",
    "\n",
    "    #Visualize\n",
    "    if plot_in_2d:\n",
    "        plot_cluster_in_2d(cluster_labels)\n",
    "    \n",
    "    #Plot Cluster Size Distribution\n",
    "    if cluster_distribution:\n",
    "        plot_cluster_size()\n",
    "        \n",
    "    "
   ]
  },
  {
   "cell_type": "markdown",
   "metadata": {},
   "source": [
    "### Scales the data points in 2D and plots based on its Cluster"
   ]
  },
  {
   "cell_type": "code",
   "execution_count": 12,
   "metadata": {
    "collapsed": false
   },
   "outputs": [],
   "source": [
    "def plot_cluster_in_2d(cluster_labels):\n",
    "    from sklearn.manifold import MDS\n",
    "    global DIST_MAT\n",
    "    global BRANDS_LIST\n",
    "    global N_BRANDS\n",
    "    \n",
    "    if min(cluster_labels) == 0:\n",
    "        num_clusters = max(cluster_labels) + 1\n",
    "    else:\n",
    "        num_clusters = max(cluster_labels)\n",
    "        \n",
    "\n",
    "    print('Num Clusters:',num_clusters)\n",
    "    \n",
    "    if n_brands > 1000:\n",
    "        fig = plt.figure(figsize=(100,100))\n",
    "    else:\n",
    "        fig = plt.figure()\n",
    "    fig, ax = plt.subplots(figsize=(15,15))\n",
    "    cmap = plt.get_cmap('jet')\n",
    "    colors = cmap(np.linspace(0, 1, num_clusters))\n",
    "    colors_map = []\n",
    "    for i in range(N_BRANDS):\n",
    "        colors_map.append(colors[cluster_labels[i]])\n",
    "        \n",
    "        \n",
    "    mds = MDS(n_components=2, dissimilarity=\"precomputed\", random_state=1)\n",
    "    pos = mds.fit_transform(DIST_MAT)  # shape (n_components, n_samples)\n",
    "    \n",
    "    xs, ys = pos[:, 0], pos[:, 1]\n",
    "    \n",
    "    for i in range(N_BRANDS):\n",
    "        ax.scatter(xs[i],ys[i],color=colors_map[i])\n",
    "        ax.text(xs[i],ys[i],BRANDS_LIST[i])\n",
    "    plt.savefig('figures/{}.png'.format('clusters'))"
   ]
  },
  {
   "cell_type": "markdown",
   "metadata": {},
   "source": [
    "### Plots the size of each cluster"
   ]
  },
  {
   "cell_type": "code",
   "execution_count": 13,
   "metadata": {
    "collapsed": false
   },
   "outputs": [],
   "source": [
    "def plot_cluster_size():\n",
    "    global CLUSTERS\n",
    "    cluster_size_count = []\n",
    "    \n",
    "    for cluster_id in CLUSTERS:\n",
    "        cluster_size_count.append(len(CLUSTERS[cluster_id]))\n",
    "    \n",
    "    plt.hist(cluster_size_count, bins = range(max(cluster_size_count)+1))\n",
    "    plt.xlabel('Cluster Size')\n",
    "    plt.ylabel('Count')\n",
    "    plt.title('Cluster Size Distribution')\n",
    "    plt.savefig('figures/{}.png'.format('cluster_size'))"
   ]
  },
  {
   "cell_type": "markdown",
   "metadata": {},
   "source": [
    "### Plots Silhouette Scores for a Clustering"
   ]
  },
  {
   "cell_type": "code",
   "execution_count": 14,
   "metadata": {
    "collapsed": false
   },
   "outputs": [],
   "source": [
    "def plot_silhouette_scores(method, max_clusters=25):\n",
    "    global DIST_MAT\n",
    "    global Z\n",
    "    scores = []\n",
    "    fig = plt.figure()\n",
    "    if method == 'Hierarchical':\n",
    "        thresholds = []\n",
    "        for i in range(60,100,5):\n",
    "            thresholds.append(i/100.0)\n",
    "            labels = sch.fcluster(Z,thresholds[-1])\n",
    "            scores.append(metrics.silhouette_score(DIST_MAT, labels, metric='precomputed'))\n",
    "        plt.scatter(thresholds,scores)\n",
    "        plt.plot(thresholds,scores, marker='o')\n",
    "        \n",
    "    elif method == 'Agglomerative':\n",
    "        num_clusters = range(2,max_clusters+1)\n",
    "        linkage='complete'\n",
    "        for cluster_size in num_clusters:\n",
    "            clustering = AgglomerativeClustering(n_clusters=cluster_size, linkage=linkage).fit(DIST_MAT)\n",
    "            labels = clustering.labels_\n",
    "            scores.append(metrics.silhouette_score(DIST_MAT, labels, metric='precomputed'))\n",
    "        plt.scatter(num_clusters,scores)\n",
    "        plt.plot(num_clusters,scores, marker='o')\n",
    "     \n",
    "    elif method == 'Spectral':\n",
    "        num_clusters = range(2,max_clusters+1)\n",
    "        linkage='complete'\n",
    "        for cluster_size in num_clusters:\n",
    "            clustering = SpectralClustering(n_clusters=cluster_size, affinity='precomputed',\n",
    "                                       eigen_solver='arpack', assign_labels='kmeans').fit(DIST_MAT)\n",
    "            labels = clustering.labels_\n",
    "            scores.append(metrics.silhouette_score(DIST_MAT, labels, metric='precomputed'))\n",
    "        plt.scatter(num_clusters,scores)\n",
    "        plt.plot(num_clusters,scores, marker='o')\n",
    "        \n",
    "    plt.savefig('figures/{}.png'.format(method+'_scores'))\n",
    "            "
   ]
  },
  {
   "cell_type": "markdown",
   "metadata": {},
   "source": [
    "### Girvan-Newman Algorithm"
   ]
  },
  {
   "cell_type": "code",
   "execution_count": 16,
   "metadata": {
    "collapsed": false
   },
   "outputs": [],
   "source": [
    "#clustering_method='Girvan-Newman'\n",
    "#kwargs = {}\n",
    "#cluster_brands(clustering_method, **kwargs)\n",
    "#plot_silhouette_scores(clustering_method)"
   ]
  },
  {
   "cell_type": "markdown",
   "metadata": {},
   "source": [
    "### 1. Agglomerative Clustering"
   ]
  },
  {
   "cell_type": "code",
   "execution_count": 17,
   "metadata": {
    "collapsed": false
   },
   "outputs": [
    {
     "name": "stdout",
     "output_type": "stream",
     "text": [
      "Clustering Algorithm: Agglomerative (complete)\n",
      "Displaying Clusters by labels...\n",
      "0 : ['34degrees', 'acne_free_skin', 'act', 'acti_pr', 'acureorganics', 'alaffiaskincare', 'always', 'american_girl', 'angelicastiffy', 'aphroditegy', 'aquafina', 'artistrybeauty', 'avoninsider', 'bar35', 'barbasolshave', 'bayer', 'beauticontrol', 'bgcf', 'bigelowtea', 'bodyimage', 'braun', 'candiesbrand', 'caneandaustin', 'canidaepetfood', 'caribou_coffee', 'caswellmassey', 'celestialtea', 'chexcereal', 'cleanandclear', 'cobigelowny', 'coldeeze', 'colgate', 'countrychoice_', 'cwhairlondon', 'ddfskincare', 'delallofoods', 'dentek', 'dimpleskins', 'dpolaner', 'drinkcheerwine', 'drpraegers', 'ecotouchuk', 'edenfoods', 'elfcosmeticsuk', 'ellentracyny', 'empirekosher', 'essentiaphwater', 'eukanuba', 'evianwater', 'fagorindustrial', 'fancyfeast', 'farmland', 'foodsalive', 'fosterfarms', 'fusion_beauty', 'ge_reports', 'glutenfreeda', 'greenheritage', 'groominglounge', 'harneytea', 'hinoderice', 'homefreetreats', 'hotpointuk', 'humboldtchp', 'hydroxatone', 'iansnaturalfood', 'indigowild', 'isseymiyakenyc', 'izze', 'johnnyssaloon', 'jouercosmetics', 'juanitascocina', 'kallarichoc', 'kaplanmd', 'klipschaudio', 'kotex', 'ladivafashions', 'lifecellaus', 'lifeextension', 'lifeway', 'littleduckorg', 'livingproof', 'luckycharms', 'lumeneus', 'lunabar', 'macadamiahair', 'macrumors', 'magno', 'makeyourbedlam', 'manentailbeauty', 'manicpanicnyc', 'marsglobal', 'medline', 'metalexuk', 'mixedchicks', 'munchies', 'nakedjuice', 'natfreshdeocrys', 'naturemade', 'naturespath', 'ncsmartstart', 'neatfeat_ph', 'odwalla', 'officialccduo', 'ohjazzy', 'oldspice', 'onkyo', 'oomphband', 'oopsydaisyart', 'organicbabywear', 'orioncaraudio', 'oroweatve', 'pangeaorganics', 'parents_choice', 'peeledsnacks', 'pfchangsheaven', 'premierdeadsea_', 'preschoice', 'pro10uk', 'realcaboodles', 'realjaclynsmith', 'reallorraine', 'reallunchables', 'realpurity', 'renefurtererus', 'revivogenpro', 'rightfoods', 'rimmellondonuk', 'rococochocs', 'ruffles_oficial', 'salerm_es', 'samparparis', 'samsung', 'scharglutenfree', 'schickhydro', 'seagramsginusa', 'shiseido_uk', 'sircuitskin', 'skinauthority', 'skinceuticals', 'skinmedica', 'slimfastuk', 'smuckers', 'sofnfree', 'specialkus', 'sprayway_uk', 'stephenrcovey', 'stopandshop', 'summit', 'swakdesigns', 'tazo', 'temptu', 'thecolorwrkshop', 'thegreekgods', 'toblerone', 'turkeyhillmm', 'twbrasiloficial', 'ubykotex', 'vidalsassoon', 'vssassoon', 'wearefullcircle', 'whiskasbr', 'wolffsbiergartn', 'yorkchocfest']\n",
      "1 : ['allure_magazine', 'anntaylor', 'anthropologie', 'att', 'benandjerrys', 'bobatl', 'bose', 'cocacolaco', 'dell', 'dietcoke', 'dietpepsi', 'discover', 'drpepper', 'fantafun', 'ferragamo', 'hugoboss', 'jessicasimpson', 'lgus', 'mtn_dew', 'nautica', 'nokia', 'redbull', 'redcross', 'toshibausa', 'verizon', 'walgreens']\n",
      "2 : ['amanabrand', 'babyganics', 'bertolli', 'bestfoods', 'eckrichmeats', 'farmrichsnacks', 'fisherprice', 'flatoutbread', 'greenworks', 'hboats', 'hillshirefarm', 'ivory', 'kushiesbaby', 'lansinohusa', 'maltomealcereal', 'maytagbrand', 'morningstrfarms', 'mrsbutterworths', 'natures_pride', 'nostalgiaelctrx', 'pepto', 'resolveusa', 'roman_meal', 'smarties', 'thirstiesinc', 'wooliteus']\n",
      "3 : ['acura_insider', 'astonmartin', 'hyundai', 'lamborghini', 'lexus', 'mercedesbenz', 'thisisgmc', 'vw']\n",
      "4 : ['chanel', 'michaelkors', 'versace', 'ysl']\n",
      "5 : ['blue_bunny', 'dannon', 'delmonte', 'digiornopizza', 'dolefoods', 'dove', 'eucerinus', 'generalmills', 'motts', 'nestleusa', 'purex', 'swiffer']\n",
      "6 : ['fisherpaykel', 'jennairusa', 'thermador']\n",
      "7 : ['bhcosmetics', 'clinique_us', 'cvsbeautyclub', 'smashbox', 'wetnwildbeauty']\n",
      "Clustering Completed in time 0:00:01.184863\n"
     ]
    },
    {
     "data": {
      "image/png": "[encoded data removed]",
      "text/plain": [
       "<matplotlib.figure.Figure at 0x72032ef080>"
      ]
     },
     "metadata": {},
     "output_type": "display_data"
    },
    {
     "data": {
      "image/png": "[encoded data removed]",
      "text/plain": [
       "<matplotlib.figure.Figure at 0x7266249eb8>"
      ]
     },
     "metadata": {},
     "output_type": "display_data"
    }
   ],
   "source": [
    "clustering_method='Agglomerative'\n",
    "kwargs = {}\n",
    "kwargs['print_clusters'] ='LABEL'\n",
    "kwargs['print_cluster_size'] = True\n",
    "cluster_brands(clustering_method, num_clusters= 8, **kwargs)\n",
    "plot_silhouette_scores(clustering_method)"
   ]
  },
  {
   "cell_type": "markdown",
   "metadata": {},
   "source": [
    "### 2. Hierarchical Clustering"
   ]
  },
  {
   "cell_type": "code",
   "execution_count": 18,
   "metadata": {
    "collapsed": false
   },
   "outputs": [
    {
     "name": "stdout",
     "output_type": "stream",
     "text": [
      "Clustering Algorithm: Hierarchical (complete)\n",
      "Displaying Clusters by labels...\n",
      "1 : ['allure_magazine', 'bobatl', 'chanel', 'dell', 'ferragamo', 'hugoboss', 'jessicasimpson', 'michaelkors', 'nokia', 'redbull', 'versace', 'ysl']\n",
      "2 : ['acura_insider', 'astonmartin', 'hyundai', 'lamborghini', 'lexus', 'mercedesbenz', 'thisisgmc', 'vw']\n",
      "3 : ['benandjerrys', 'cocacolaco', 'dietcoke', 'dietpepsi', 'drpepper', 'mtn_dew']\n",
      "4 : ['lgus', 'toshibausa']\n",
      "5 : ['att', 'verizon', 'walgreens']\n",
      "6 : ['bose', 'nautica']\n",
      "7 : ['discover']\n",
      "8 : ['anntaylor', 'anthropologie', 'oldspice']\n",
      "9 : ['macrumors', 'realjaclynsmith', 'reallorraine', 'redcross', 'stephenrcovey']\n",
      "10 : ['oomphband']\n",
      "11 : ['bayer', 'medline']\n",
      "12 : ['countrychoice_', 'kallarichoc', 'rococochocs', 'yorkchocfest']\n",
      "13 : ['34degrees', 'drpraegers', 'farmrichsnacks', 'naturemade', 'nostalgiaelctrx', 'peeledsnacks']\n",
      "14 : ['bertolli', 'bestfoods', 'ivory', 'pepto', 'reallunchables', 'roman_meal', 'smarties']\n",
      "15 : ['delallofoods', 'juanitascocina']\n",
      "16 : ['chexcereal', 'smuckers']\n",
      "17 : ['fosterfarms', 'hinoderice']\n",
      "18 : ['artistrybeauty', 'avoninsider', 'bhcosmetics', 'candiesbrand', 'clinique_us', 'cvsbeautyclub', 'smashbox', 'wetnwildbeauty']\n",
      "19 : ['coldeeze', 'ellentracyny', 'maltomealcereal', 'mrsbutterworths', 'natures_pride', 'schickhydro']\n",
      "20 : ['eckrichmeats', 'flatoutbread', 'greenworks', 'hboats', 'hillshirefarm', 'morningstrfarms', 'resolveusa', 'wooliteus']\n",
      "21 : ['caswellmassey', 'hydroxatone', 'realcaboodles']\n",
      "22 : ['barbasolshave', 'dentek']\n",
      "23 : ['always', 'kotex', 'ubykotex']\n",
      "24 : ['blue_bunny', 'digiornopizza', 'dolefoods', 'motts', 'nestleusa', 'swiffer']\n",
      "25 : ['dove', 'eucerinus', 'purex']\n",
      "26 : ['dannon', 'delmonte', 'generalmills']\n",
      "27 : ['lunabar', 'specialkus']\n",
      "28 : ['dpolaner', 'munchies', 'wolffsbiergartn']\n",
      "29 : ['canidaepetfood', 'eukanuba', 'fancyfeast', 'whiskasbr']\n",
      "30 : ['bodyimage', 'ladivafashions', 'swakdesigns']\n",
      "31 : ['summit', 'wearefullcircle']\n",
      "32 : ['macadamiahair', 'manentailbeauty', 'manicpanicnyc', 'mixedchicks', 'sofnfree', 'vssassoon']\n",
      "33 : ['aquafina', 'colgate', 'evianwater', 'marsglobal']\n",
      "34 : ['cleanandclear', 'fantafun', 'stopandshop', 'vidalsassoon']\n",
      "35 : ['bigelowtea', 'caribou_coffee', 'celestialtea', 'harneytea', 'izze', 'nakedjuice', 'odwalla', 'tazo']\n",
      "36 : ['drinkcheerwine', 'lifeway']\n",
      "37 : ['ruffles_oficial', 'twbrasiloficial']\n",
      "38 : ['luckycharms', 'seagramsginusa', 'turkeyhillmm']\n",
      "39 : ['braun', 'cwhairlondon', 'ecotouchuk', 'elfcosmeticsuk', 'hotpointuk', 'metalexuk', 'rimmellondonuk', 'shiseido_uk', 'slimfastuk', 'sprayway_uk', 'toblerone']\n",
      "40 : ['american_girl', 'fisherprice', 'kushiesbaby', 'lansinohusa', 'oopsydaisyart', 'preschoice', 'thirstiesinc']\n",
      "41 : ['fisherpaykel', 'jennairusa', 'thermador']\n",
      "42 : ['amanabrand', 'maytagbrand']\n",
      "43 : ['ge_reports']\n",
      "44 : ['fagorindustrial']\n",
      "45 : ['acne_free_skin', 'greenheritage', 'groominglounge', 'pfchangsheaven', 'realpurity', 'thegreekgods']\n",
      "46 : ['ddfskincare', 'thecolorwrkshop']\n",
      "47 : ['caneandaustin', 'cobigelowny', 'renefurtererus']\n",
      "48 : ['fusion_beauty', 'jouercosmetics', 'temptu']\n",
      "49 : ['livingproof', 'lumeneus', 'samparparis']\n",
      "50 : ['kaplanmd', 'sircuitskin', 'skinauthority', 'skinceuticals', 'skinmedica']\n",
      "51 : ['premierdeadsea_']\n",
      "52 : ['isseymiyakenyc']\n",
      "53 : ['beauticontrol']\n",
      "54 : ['revivogenpro']\n",
      "55 : ['acureorganics', 'alaffiaskincare', 'glutenfreeda', 'homefreetreats', 'iansnaturalfood', 'indigowild', 'pangeaorganics', 'rightfoods', 'scharglutenfree']\n",
      "56 : ['edenfoods', 'empirekosher', 'farmland', 'foodsalive', 'naturespath']\n",
      "57 : ['aphroditegy', 'samsung']\n",
      "58 : ['oroweatve', 'salerm_es']\n",
      "59 : ['neatfeat_ph', 'officialccduo', 'pro10uk']\n",
      "60 : ['babyganics', 'dimpleskins', 'littleduckorg', 'organicbabywear', 'parents_choice']\n",
      "61 : ['klipschaudio', 'onkyo', 'orioncaraudio']\n",
      "62 : ['angelicastiffy', 'ohjazzy']\n",
      "63 : ['act', 'bgcf', 'ncsmartstart']\n",
      "64 : ['essentiaphwater', 'lifecellaus', 'lifeextension', 'natfreshdeocrys']\n",
      "65 : ['bar35', 'johnnyssaloon']\n",
      "66 : ['humboldtchp', 'makeyourbedlam']\n",
      "67 : ['acti_pr', 'magno']\n",
      "Clustering Completed in time 0:00:00.438527\n"
     ]
    },
    {
     "data": {
      "image/png": "[encoded data removed]",
      "text/plain": [
       "<matplotlib.figure.Figure at 0x7267631b38>"
      ]
     },
     "metadata": {},
     "output_type": "display_data"
    },
    {
     "data": {
      "image/png": "[encoded data removed]",
      "text/plain": [
       "<matplotlib.figure.Figure at 0x72012cacf8>"
      ]
     },
     "metadata": {},
     "output_type": "display_data"
    }
   ],
   "source": [
    "clustering_method='Hierarchical'\n",
    "kwargs = {}\n",
    "kwargs['print_clusters'] ='LABEL'\n",
    "kwargs['print_cluster_size'] = True\n",
    "kwargs['print_dendrogram'] = False\n",
    "kwargs['threshold'] = 0.99999999\n",
    "cluster_brands(clustering_method, num_clusters= 8, **kwargs)\n",
    "plot_silhouette_scores(clustering_method)"
   ]
  },
  {
   "cell_type": "markdown",
   "metadata": {},
   "source": [
    "### 3. Spectral Clustering"
   ]
  },
  {
   "cell_type": "code",
   "execution_count": 19,
   "metadata": {
    "collapsed": false
   },
   "outputs": [
    {
     "name": "stdout",
     "output_type": "stream",
     "text": [
      "Clustering Algorithm: Spectral (arpack,kmeans)\n",
      "Displaying Clusters by labels...\n",
      "0 : ['34degrees', 'acne_free_skin', 'act', 'acti_pr', 'acura_insider', 'acureorganics', 'alaffiaskincare', 'allure_magazine', 'always', 'amanabrand', 'american_girl', 'angelicastiffy', 'anntaylor', 'anthropologie', 'aphroditegy', 'aquafina', 'artistrybeauty', 'att', 'avoninsider', 'babyganics', 'bar35', 'barbasolshave', 'bayer', 'beauticontrol', 'benandjerrys', 'bertolli', 'bestfoods', 'bgcf', 'bhcosmetics', 'bigelowtea', 'blue_bunny', 'bobatl', 'bodyimage', 'bose', 'braun', 'candiesbrand', 'caneandaustin', 'canidaepetfood', 'caribou_coffee', 'caswellmassey', 'celestialtea', 'chanel', 'chexcereal', 'cleanandclear', 'clinique_us', 'cobigelowny', 'cocacolaco', 'coldeeze', 'colgate', 'countrychoice_', 'cvsbeautyclub', 'cwhairlondon', 'dannon', 'ddfskincare', 'delallofoods', 'dell', 'delmonte', 'dentek', 'dietcoke', 'dietpepsi', 'digiornopizza', 'dimpleskins', 'discover', 'dove', 'dpolaner', 'drinkcheerwine', 'drpepper', 'drpraegers', 'eckrichmeats', 'ecotouchuk', 'edenfoods', 'elfcosmeticsuk', 'ellentracyny', 'empirekosher', 'essentiaphwater', 'eucerinus', 'eukanuba', 'evianwater', 'fagorindustrial', 'fancyfeast', 'fantafun', 'farmland', 'farmrichsnacks', 'ferragamo', 'fisherpaykel', 'fisherprice', 'flatoutbread', 'foodsalive', 'fosterfarms', 'fusion_beauty', 'ge_reports', 'generalmills', 'glutenfreeda', 'greenheritage', 'greenworks', 'groominglounge', 'harneytea', 'hboats', 'hillshirefarm', 'hinoderice', 'homefreetreats', 'hotpointuk', 'hugoboss', 'humboldtchp', 'hydroxatone', 'iansnaturalfood', 'indigowild', 'isseymiyakenyc', 'ivory', 'izze', 'jennairusa', 'jessicasimpson', 'johnnyssaloon', 'jouercosmetics', 'juanitascocina', 'kallarichoc', 'kaplanmd', 'klipschaudio', 'kotex', 'kushiesbaby', 'ladivafashions', 'lansinohusa', 'lexus', 'lgus', 'lifecellaus', 'lifeextension', 'lifeway', 'littleduckorg', 'livingproof', 'luckycharms', 'lumeneus', 'lunabar', 'macadamiahair', 'macrumors', 'magno', 'makeyourbedlam', 'maltomealcereal', 'manentailbeauty', 'manicpanicnyc', 'marsglobal', 'maytagbrand', 'medline', 'metalexuk', 'michaelkors', 'mixedchicks', 'morningstrfarms', 'motts', 'mrsbutterworths', 'mtn_dew', 'munchies', 'nakedjuice', 'natfreshdeocrys', 'naturemade', 'natures_pride', 'naturespath', 'nautica', 'ncsmartstart', 'neatfeat_ph', 'nestleusa', 'nokia', 'nostalgiaelctrx', 'odwalla', 'officialccduo', 'ohjazzy', 'oldspice', 'onkyo', 'oomphband', 'oopsydaisyart', 'organicbabywear', 'orioncaraudio', 'oroweatve', 'pangeaorganics', 'parents_choice', 'peeledsnacks', 'pepto', 'pfchangsheaven', 'premierdeadsea_', 'preschoice', 'pro10uk', 'purex', 'realcaboodles', 'realjaclynsmith', 'reallorraine', 'reallunchables', 'realpurity', 'redbull', 'redcross', 'renefurtererus', 'resolveusa', 'revivogenpro', 'rightfoods', 'rimmellondonuk', 'rococochocs', 'roman_meal', 'ruffles_oficial', 'salerm_es', 'samparparis', 'samsung', 'scharglutenfree', 'schickhydro', 'seagramsginusa', 'shiseido_uk', 'sircuitskin', 'skinauthority', 'skinceuticals', 'skinmedica', 'slimfastuk', 'smarties', 'smashbox', 'smuckers', 'sofnfree', 'specialkus', 'sprayway_uk', 'stephenrcovey', 'stopandshop', 'summit', 'swakdesigns', 'swiffer', 'tazo', 'temptu', 'thecolorwrkshop', 'thegreekgods', 'thermador', 'thirstiesinc', 'toblerone', 'toshibausa', 'turkeyhillmm', 'twbrasiloficial', 'ubykotex', 'verizon', 'versace', 'vidalsassoon', 'vssassoon', 'walgreens', 'wearefullcircle', 'wetnwildbeauty', 'whiskasbr', 'wolffsbiergartn', 'wooliteus', 'yorkchocfest', 'ysl']\n",
      "1 : ['vw']\n",
      "2 : ['mercedesbenz']\n",
      "3 : ['thisisgmc']\n",
      "4 : ['hyundai']\n",
      "5 : ['astonmartin']\n",
      "6 : ['lamborghini']\n",
      "7 : ['dolefoods']\n",
      "Clustering Completed in time 0:00:01.651992\n"
     ]
    },
    {
     "data": {
      "image/png": "[encoded data removed]",
      "text/plain": [
       "<matplotlib.figure.Figure at 0x7201e71390>"
      ]
     },
     "metadata": {},
     "output_type": "display_data"
    },
    {
     "data": {
      "image/png": "[encoded data removed]",
      "text/plain": [
       "<matplotlib.figure.Figure at 0x724c72c898>"
      ]
     },
     "metadata": {},
     "output_type": "display_data"
    }
   ],
   "source": [
    "clustering_method='Spectral'\n",
    "kwargs = {}\n",
    "kwargs['print_clusters'] ='LABEL'\n",
    "kwargs['print_cluster_size'] = True\n",
    "cluster_brands(clustering_method, num_clusters= 8, **kwargs)\n",
    "plot_silhouette_scores(clustering_method)"
   ]
  },
  {
   "cell_type": "code",
   "execution_count": null,
   "metadata": {
    "collapsed": true
   },
   "outputs": [],
   "source": []
  }
 ],
 "metadata": {
  "anaconda-cloud": {},
  "kernelspec": {
   "display_name": "Python [ana35]",
   "language": "python",
   "name": "Python [ana35]"
  },
  "language_info": {
   "codemirror_mode": {
    "name": "ipython",
    "version": 3
   },
   "file_extension": ".py",
   "mimetype": "text/x-python",
   "name": "python",
   "nbconvert_exporter": "python",
   "pygments_lexer": "ipython3",
   "version": "3.5.2"
  }
 },
 "nbformat": 4,
 "nbformat_minor": 0
}
