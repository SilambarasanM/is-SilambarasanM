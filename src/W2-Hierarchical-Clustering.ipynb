{
 "cells": [
  {
   "cell_type": "code",
   "execution_count": 1,
   "metadata": {
    "collapsed": true
   },
   "outputs": [],
   "source": [
    "import networkx as nx\n",
    "import matplotlib.pyplot as plt  \n",
    "from datetime import datetime\n",
    "%matplotlib inline"
   ]
  },
  {
   "cell_type": "code",
   "execution_count": 2,
   "metadata": {
    "collapsed": true
   },
   "outputs": [],
   "source": [
    "def check_data_file():\n",
    "    import os.path\n",
    "    if os.path.exists('brand_followers.tsv'):\n",
    "        #fix brand followers - Do not run more than more\n",
    "        out_file = open(\"brand_followers_fixed.tsv\",\"w\")\n",
    "        with open('brand_followers.tsv','r') as data_file:\n",
    "            data = data_file.read()\n",
    "            data = data.replace('1114073faithhill','1114073\\nfaithhill')\n",
    "            out_file.write(data)\n",
    "        out_file.close()\n",
    "        os.remove('brand_followers.tsv')"
   ]
  },
  {
   "cell_type": "code",
   "execution_count": 3,
   "metadata": {
    "collapsed": true
   },
   "outputs": [],
   "source": [
    "def load_data(max_row_count=1404):\n",
    "    start = datetime.now()\n",
    "    brand_followers = {}\n",
    "    row_id = 0\n",
    "    brands_list = []\n",
    "    with open('brand_followers_fixed.tsv') as data_file:\n",
    "        for row in data_file:\n",
    "            row_id += 1\n",
    "            followers = row.split()\n",
    "            brand = followers.pop(0)\n",
    "            brand_followers[brand] = set([int(x) for x in followers])\n",
    "            brands_list.append(brand)\n",
    "            \n",
    "            print( row_id, 'Brand:',brand, 'Followers:',len(followers))\n",
    "            if row_id == max_row_count:\n",
    "                print('Reached limit!')\n",
    "                break\n",
    "    stop = datetime.now()\n",
    "    print(\"Elapsed Time:\",stop-start)\n",
    "    return brand_followers"
   ]
  },
  {
   "cell_type": "code",
   "execution_count": 5,
   "metadata": {
    "collapsed": true
   },
   "outputs": [],
   "source": [
    "def create_weighted_graph(brand_followers):\n",
    "    from itertools import combinations\n",
    "    start = datetime.now()\n",
    "    G = nx.Graph()\n",
    "    brands_list = brand_followers.keys()\n",
    "    for brand in brands_list:\n",
    "        G.add_node(brand)\n",
    "    for pair in combinations(brands_list,2):\n",
    "        b1 = brand_followers[pair[0]]\n",
    "        b2 = brand_followers[pair[1]]\n",
    "        common_connections = len(b1.intersection(b2))\n",
    "        total_connections = len(b1) + len(b2) - common_connections #More efficient than set(b1).union(b2)\n",
    "        weight = common_connections/total_connections\n",
    "        if weight != 0.0:\n",
    "            G.add_edge(pair[0],pair[1], weight = weight)\n",
    "    stop = datetime.now()\n",
    "    print(\"Elapsed Time:\",stop-start)\n",
    "    return G"
   ]
  },
  {
   "cell_type": "code",
   "execution_count": null,
   "metadata": {
    "collapsed": true
   },
   "outputs": [],
   "source": []
  }
 ],
 "metadata": {
  "anaconda-cloud": {},
  "kernelspec": {
   "display_name": "Python [ana35]",
   "language": "python",
   "name": "Python [ana35]"
  },
  "language_info": {
   "codemirror_mode": {
    "name": "ipython",
    "version": 3
   },
   "file_extension": ".py",
   "mimetype": "text/x-python",
   "name": "python",
   "nbconvert_exporter": "python",
   "pygments_lexer": "ipython3",
   "version": "3.5.2"
  }
 },
 "nbformat": 4,
 "nbformat_minor": 0
}
