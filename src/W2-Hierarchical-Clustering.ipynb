{
 "cells": [
  {
   "cell_type": "code",
   "execution_count": null,
   "metadata": {
    "collapsed": true
   },
   "outputs": [],
   "source": [
    "from datetime import datetime\n",
    "from time import time\n",
    "from itertools import combinations\n",
    "import numpy as np\n",
    "from sklearn.cluster import AgglomerativeClustering\n",
    "import scipy.cluster.hierarchy as sch\n",
    "import networkx as nx\n",
    "import matplotlib.pyplot as plt\n",
    "%matplotlib inline"
   ]
  },
  {
   "cell_type": "code",
   "execution_count": null,
   "metadata": {
    "collapsed": false
   },
   "outputs": [],
   "source": [
    "global brands_list\n",
    "global brand_followers\n",
    "global condnsd_dist_mat\n",
    "global dist_mat\n",
    "global Z\n",
    "global clusters"
   ]
  },
  {
   "cell_type": "code",
   "execution_count": null,
   "metadata": {
    "collapsed": true
   },
   "outputs": [],
   "source": [
    "def check_data_file():\n",
    "    import os.path\n",
    "    if os.path.exists('brand_followers.tsv'):\n",
    "        #fix brand followers - Do not run more than more\n",
    "        out_file = open(\"brand_followers_fixed.tsv\",\"w\")\n",
    "        with open('brand_followers.tsv','r') as data_file:\n",
    "            data = data_file.read()\n",
    "            data = data.replace('1114073faithhill','1114073\\nfaithhill')\n",
    "            out_file.write(data)\n",
    "        out_file.close()\n",
    "        os.remove('brand_followers.tsv')\n",
    "        return True\n",
    "    elif os.path.exists('brand_followers_fixed.tsv'):\n",
    "        return True\n",
    "    return False"
   ]
  },
  {
   "cell_type": "code",
   "execution_count": null,
   "metadata": {
    "collapsed": true
   },
   "outputs": [],
   "source": [
    "def load_data(max_row_count=1404):\n",
    "    global brands_list\n",
    "    global brand_followers\n",
    "    \n",
    "    start = datetime.now()    \n",
    "    \n",
    "    brand_followers = {}\n",
    "    brands_list = []\n",
    "    \n",
    "    row_id = 0\n",
    "    with open('brand_followers_fixed.tsv') as data_file:\n",
    "        for row in data_file:\n",
    "            row_id += 1\n",
    "            followers = row.split()\n",
    "            brand = followers.pop(0)\n",
    "            brand_followers[brand] = set([int(x) for x in followers])\n",
    "            brands_list.append(brand)\n",
    "            if row_id % 100 == 0:\n",
    "                print( 'Loaded brand', row_id, '-', brand, 'with',len(followers),'followers.')\n",
    "            if row_id == max_row_count:\n",
    "                stop = datetime.now()\n",
    "                print('Loaded',max_row_count,'rows in time',stop-start)\n",
    "                break\n",
    "    return"
   ]
  },
  {
   "cell_type": "code",
   "execution_count": null,
   "metadata": {
    "collapsed": true
   },
   "outputs": [],
   "source": [
    "def create_distance_matrix():\n",
    "    global brands_list\n",
    "    global brand_followers\n",
    "    global condnsd_dist_mat\n",
    "    global dist_mat\n",
    "    dist_mat = np.identity(len(brands_list))\n",
    "    start = datetime.now()\n",
    "    condnsd_dist_mat = []\n",
    "    edges = 0\n",
    "    for tuple_pair in combinations(enumerate(brands_list),2):\n",
    "        b1 = brand_followers[tuple_pair[0][1]]\n",
    "        b2 = brand_followers[tuple_pair[1][1]]\n",
    "        #b1 = brand_followers[pair[0]]\n",
    "        #b2 = brand_followers[pair[1]]\n",
    "        \n",
    "        #Jaccard Similarity Measure\n",
    "        common_connections = len(b1.intersection(b2))\n",
    "        total_connections = len(b1) + len(b2) - common_connections #More efficient than set(b1).union(b2)\n",
    "        weight = common_connections/total_connections\n",
    "\n",
    "        condnsd_dist_mat.append(1.0 - weight)\n",
    "        #dist_mat[tuple_pair[0][0] , tuple_pair[1][0]] = dist_mat[tuple_pair[1][0] , tuple_pair[0][0]] = 1.0 - weight\n",
    "        \n",
    "        edges += 1\n",
    "        if edges%10000 == 0:\n",
    "            print(edges, 'edges loaded.')\n",
    "        \n",
    "    stop = datetime.now()\n",
    "    \n",
    "    print('Created',len(brands_list),'x',len(brands_list),'Distance Matrix in time',stop-start)\n",
    "    brand_followers = {}\n",
    "    return"
   ]
  },
  {
   "cell_type": "code",
   "execution_count": null,
   "metadata": {
    "collapsed": true
   },
   "outputs": [],
   "source": [
    "def create_clusters():\n",
    "    global condnsd_dist_mat\n",
    "    global brands_list\n",
    "    global Z\n",
    "    \n",
    "    start = datetime.now()\n",
    "    #clustering = AgglomerativeClustering(n_clusters=4, linkage='ward').fit(distance_matrix)\n",
    "    #print(clustering.labels_)\n",
    "    #fig = plt.figure(figsize=(15,15))\n",
    "    #i = 1\n",
    "    for method in ['single', 'complete', 'average', 'weighted']:\n",
    "        #method='single'\n",
    "        print('Method',method)\n",
    "        Z = sch.linkage(condnsd_dist_mat, method=method)\n",
    "        #print(Z)\n",
    "        get_clusters()\n",
    "        plt.clf()\n",
    "        fig = plt.figure(figsize=(150,150))\n",
    "        #axes = plt.gca()\n",
    "        #axes.set_xlim([0.7,1])\n",
    "        dd = sch.dendrogram(Z, labels=brands_list,orientation='right')\n",
    "        \n",
    "        #plt.tick_params(axis= 'x', which='both', bottom='off', top='off', labelbottom='off')\n",
    "\n",
    "        #plt.tight_layout()\n",
    "        plt.savefig('{}.pdf'.format(method))\n",
    "        print('Elapsed time',datetime.now()-start)\n",
    "        \n",
    "    stop = datetime.now()\n",
    "    print('Clustering completed in time',stop-start)"
   ]
  },
  {
   "cell_type": "code",
   "execution_count": null,
   "metadata": {
    "collapsed": true
   },
   "outputs": [],
   "source": [
    "def get_clusters():\n",
    "    global Z\n",
    "    global clusters\n",
    "    z = sch.fcluster(Z,0.925)\n",
    "    clusters = {}\n",
    "    for i in range(1,max(z)+1):\n",
    "        clusters[i] = []    \n",
    "    for i in range(len(z)):\n",
    "        clusters[z[i]].append(brands_list[i])\n",
    "    print(clusters)"
   ]
  },
  {
   "cell_type": "code",
   "execution_count": null,
   "metadata": {
    "collapsed": false
   },
   "outputs": [],
   "source": [
    "def plot_cluster():\n",
    "    from sklearn.manifold import MDS\n",
    "    global dist_mat\n",
    "    \n",
    "    mds = MDS(n_components=2, dissimilarity=\"precomputed\", random_state=1)\n",
    "    pos = mds.fit_transform(dist_mat)  # shape (n_components, n_samples)\n",
    "    \n",
    "    xs, ys = pos[:, 0], pos[:, 1]"
   ]
  },
  {
   "cell_type": "code",
   "execution_count": null,
   "metadata": {
    "collapsed": false
   },
   "outputs": [],
   "source": [
    "if check_data_file():\n",
    "    load_data()\n",
    "    #G = create_weighted_graph()\n",
    "    create_distance_matrix()\n",
    "    #print(condnsd_dist_mat)\n",
    "    create_clusters()    \n",
    "    #plot_cluster()"
   ]
  },
  {
   "cell_type": "code",
   "execution_count": null,
   "metadata": {
    "collapsed": false
   },
   "outputs": [],
   "source": [
    "#create_clusters()"
   ]
  },
  {
   "cell_type": "code",
   "execution_count": null,
   "metadata": {
    "collapsed": true
   },
   "outputs": [],
   "source": []
  }
 ],
 "metadata": {
  "anaconda-cloud": {},
  "kernelspec": {
   "display_name": "Python [ana35]",
   "language": "python",
   "name": "Python [ana35]"
  },
  "language_info": {
   "codemirror_mode": {
    "name": "ipython",
    "version": 3
   },
   "file_extension": ".py",
   "mimetype": "text/x-python",
   "name": "python",
   "nbconvert_exporter": "python",
   "pygments_lexer": "ipython3",
   "version": "3.5.2"
  }
 },
 "nbformat": 4,
 "nbformat_minor": 0
}
